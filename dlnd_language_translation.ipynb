{
 "cells": [
  {
   "cell_type": "markdown",
   "metadata": {
    "collapsed": true
   },
   "source": [
    "# Language Translation\n",
    "In this project, you’re going to take a peek into the realm of neural network machine translation.  You’ll be training a sequence to sequence model on a dataset of English and French sentences that can translate new sentences from English to French.\n",
    "## Get the Data\n",
    "Since translating the whole language of English to French will take lots of time to train, we have provided you with a small portion of the English corpus."
   ]
  },
  {
   "cell_type": "code",
   "execution_count": 1,
   "metadata": {
    "collapsed": true
   },
   "outputs": [],
   "source": [
    "\"\"\"\n",
    "DON'T MODIFY ANYTHING IN THIS CELL\n",
    "\"\"\"\n",
    "import helper\n",
    "import problem_unittests as tests\n",
    "\n",
    "source_path = 'data/small_vocab_en'\n",
    "target_path = 'data/small_vocab_fr'\n",
    "source_text = helper.load_data(source_path)\n",
    "target_text = helper.load_data(target_path)"
   ]
  },
  {
   "cell_type": "markdown",
   "metadata": {},
   "source": [
    "## Explore the Data\n",
    "Play around with view_sentence_range to view different parts of the data."
   ]
  },
  {
   "cell_type": "code",
   "execution_count": 2,
   "metadata": {},
   "outputs": [
    {
     "name": "stdout",
     "output_type": "stream",
     "text": [
      "Dataset Stats\n",
      "Roughly the number of unique words: 227\n",
      "Number of sentences: 137861\n",
      "Average number of words in a sentence: 13.225277634719028\n",
      "\n",
      "English sentences 0 to 10:\n",
      "new jersey is sometimes quiet during autumn , and it is snowy in april .\n",
      "the united states is usually chilly during july , and it is usually freezing in november .\n",
      "california is usually quiet during march , and it is usually hot in june .\n",
      "the united states is sometimes mild during june , and it is cold in september .\n",
      "your least liked fruit is the grape , but my least liked is the apple .\n",
      "his favorite fruit is the orange , but my favorite is the grape .\n",
      "paris is relaxing during december , but it is usually chilly in july .\n",
      "new jersey is busy during spring , and it is never hot in march .\n",
      "our least liked fruit is the lemon , but my least liked is the grape .\n",
      "the united states is sometimes busy during january , and it is sometimes warm in november .\n",
      "\n",
      "French sentences 0 to 10:\n",
      "new jersey est parfois calme pendant l' automne , et il est neigeux en avril .\n",
      "les états-unis est généralement froid en juillet , et il gèle habituellement en novembre .\n",
      "california est généralement calme en mars , et il est généralement chaud en juin .\n",
      "les états-unis est parfois légère en juin , et il fait froid en septembre .\n",
      "votre moins aimé fruit est le raisin , mais mon moins aimé est la pomme .\n",
      "son fruit préféré est l'orange , mais mon préféré est le raisin .\n",
      "paris est relaxant en décembre , mais il est généralement froid en juillet .\n",
      "new jersey est occupé au printemps , et il est jamais chaude en mars .\n",
      "notre fruit est moins aimé le citron , mais mon moins aimé est le raisin .\n",
      "les états-unis est parfois occupé en janvier , et il est parfois chaud en novembre .\n"
     ]
    }
   ],
   "source": [
    "view_sentence_range = (0, 10)\n",
    "\n",
    "\"\"\"\n",
    "DON'T MODIFY ANYTHING IN THIS CELL\n",
    "\"\"\"\n",
    "import numpy as np\n",
    "\n",
    "print('Dataset Stats')\n",
    "print('Roughly the number of unique words: {}'.format(len({word: None for word in source_text.split()})))\n",
    "\n",
    "sentences = source_text.split('\\n')\n",
    "word_counts = [len(sentence.split()) for sentence in sentences]\n",
    "print('Number of sentences: {}'.format(len(sentences)))\n",
    "print('Average number of words in a sentence: {}'.format(np.average(word_counts)))\n",
    "\n",
    "print()\n",
    "print('English sentences {} to {}:'.format(*view_sentence_range))\n",
    "print('\\n'.join(source_text.split('\\n')[view_sentence_range[0]:view_sentence_range[1]]))\n",
    "print()\n",
    "print('French sentences {} to {}:'.format(*view_sentence_range))\n",
    "print('\\n'.join(target_text.split('\\n')[view_sentence_range[0]:view_sentence_range[1]]))"
   ]
  },
  {
   "cell_type": "markdown",
   "metadata": {},
   "source": [
    "## Implement Preprocessing Function\n",
    "### Text to Word Ids\n",
    "As you did with other RNNs, you must turn the text into a number so the computer can understand it. In the function `text_to_ids()`, you'll turn `source_text` and `target_text` from words to ids.  However, you need to add the `<EOS>` word id at the end of `target_text`.  This will help the neural network predict when the sentence should end.\n",
    "\n",
    "You can get the `<EOS>` word id by doing:\n",
    "```python\n",
    "target_vocab_to_int['<EOS>']\n",
    "```\n",
    "You can get other word ids using `source_vocab_to_int` and `target_vocab_to_int`."
   ]
  },
  {
   "cell_type": "code",
   "execution_count": 3,
   "metadata": {},
   "outputs": [
    {
     "name": "stdout",
     "output_type": "stream",
     "text": [
      "Tests Passed\n"
     ]
    }
   ],
   "source": [
    "def text_to_ids(source_text, target_text, source_vocab_to_int, target_vocab_to_int):\n",
    "    \"\"\"\n",
    "    Convert source and target text to proper word ids\n",
    "    :param source_text: String that contains all the source text.\n",
    "    :param target_text: String that contains all the target text.\n",
    "    :param source_vocab_to_int: Dictionary to go from the source words to an id\n",
    "    :param target_vocab_to_int: Dictionary to go from the target words to an id\n",
    "    :return: A tuple of lists (source_id_text, target_id_text)\n",
    "    \"\"\"\n",
    "    source_id_text = []    \n",
    "    target_id_text = []\n",
    "    \n",
    "    for sentence in source_text.split('\\n'):\n",
    "        sentence_text = []\n",
    "        for word in sentence.split(' '):\n",
    "            if word in source_vocab_to_int:\n",
    "                sentence_text.append(source_vocab_to_int[word])\n",
    "        source_id_text.append(sentence_text)\n",
    "    \n",
    "    for sentence in target_text.split('\\n'):\n",
    "        sentence_text = []\n",
    "        for word in sentence.split(' '):\n",
    "            if word in target_vocab_to_int:\n",
    "                sentence_text.append(target_vocab_to_int[word])\n",
    "        sentence_text.append(target_vocab_to_int['<EOS>'])\n",
    "        target_id_text.append(sentence_text)\n",
    "        \n",
    "    return source_id_text, target_id_text\n",
    "\n",
    "\"\"\"\n",
    "DON'T MODIFY ANYTHING IN THIS CELL THAT IS BELOW THIS LINE\n",
    "\"\"\"\n",
    "tests.test_text_to_ids(text_to_ids)"
   ]
  },
  {
   "cell_type": "markdown",
   "metadata": {},
   "source": [
    "### Preprocess all the data and save it\n",
    "Running the code cell below will preprocess all the data and save it to file."
   ]
  },
  {
   "cell_type": "code",
   "execution_count": 4,
   "metadata": {
    "collapsed": true
   },
   "outputs": [],
   "source": [
    "\"\"\"\n",
    "DON'T MODIFY ANYTHING IN THIS CELL\n",
    "\"\"\"\n",
    "helper.preprocess_and_save_data(source_path, target_path, text_to_ids)"
   ]
  },
  {
   "cell_type": "markdown",
   "metadata": {},
   "source": [
    "# Check Point\n",
    "This is your first checkpoint. If you ever decide to come back to this notebook or have to restart the notebook, you can start from here. The preprocessed data has been saved to disk."
   ]
  },
  {
   "cell_type": "code",
   "execution_count": 1,
   "metadata": {
    "collapsed": true
   },
   "outputs": [],
   "source": [
    "\"\"\"\n",
    "DON'T MODIFY ANYTHING IN THIS CELL\n",
    "\"\"\"\n",
    "import numpy as np\n",
    "import helper\n",
    "import problem_unittests as tests\n",
    "\n",
    "(source_int_text, target_int_text), (source_vocab_to_int, target_vocab_to_int), _ = helper.load_preprocess()"
   ]
  },
  {
   "cell_type": "markdown",
   "metadata": {},
   "source": [
    "### Check the Version of TensorFlow and Access to GPU\n",
    "This will check to make sure you have the correct version of TensorFlow and access to a GPU"
   ]
  },
  {
   "cell_type": "code",
   "execution_count": 2,
   "metadata": {},
   "outputs": [
    {
     "name": "stdout",
     "output_type": "stream",
     "text": [
      "TensorFlow Version: 1.1.0\n",
      "Default GPU Device: /gpu:0\n"
     ]
    }
   ],
   "source": [
    "\"\"\"\n",
    "DON'T MODIFY ANYTHING IN THIS CELL\n",
    "\"\"\"\n",
    "from distutils.version import LooseVersion\n",
    "import warnings\n",
    "import tensorflow as tf\n",
    "from tensorflow.python.layers.core import Dense\n",
    "\n",
    "# Check TensorFlow Version\n",
    "assert LooseVersion(tf.__version__) >= LooseVersion('1.1'), 'Please use TensorFlow version 1.1 or newer'\n",
    "print('TensorFlow Version: {}'.format(tf.__version__))\n",
    "\n",
    "# Check for a GPU\n",
    "if not tf.test.gpu_device_name():\n",
    "    warnings.warn('No GPU found. Please use a GPU to train your neural network.')\n",
    "else:\n",
    "    print('Default GPU Device: {}'.format(tf.test.gpu_device_name()))"
   ]
  },
  {
   "cell_type": "markdown",
   "metadata": {},
   "source": [
    "## Build the Neural Network\n",
    "You'll build the components necessary to build a Sequence-to-Sequence model by implementing the following functions below:\n",
    "- `model_inputs`\n",
    "- `process_decoder_input`\n",
    "- `encoding_layer`\n",
    "- `decoding_layer_train`\n",
    "- `decoding_layer_infer`\n",
    "- `decoding_layer`\n",
    "- `seq2seq_model`\n",
    "\n",
    "### Input\n",
    "Implement the `model_inputs()` function to create TF Placeholders for the Neural Network. It should create the following placeholders:\n",
    "\n",
    "- Input text placeholder named \"input\" using the TF Placeholder name parameter with rank 2.\n",
    "- Targets placeholder with rank 2.\n",
    "- Learning rate placeholder with rank 0.\n",
    "- Keep probability placeholder named \"keep_prob\" using the TF Placeholder name parameter with rank 0.\n",
    "- Target sequence length placeholder named \"target_sequence_length\" with rank 1\n",
    "- Max target sequence length tensor named \"max_target_len\" getting its value from applying tf.reduce_max on the target_sequence_length placeholder. Rank 0.\n",
    "- Source sequence length placeholder named \"source_sequence_length\" with rank 1\n",
    "\n",
    "Return the placeholders in the following the tuple (input, targets, learning rate, keep probability, target sequence length, max target sequence length, source sequence length)"
   ]
  },
  {
   "cell_type": "code",
   "execution_count": 3,
   "metadata": {},
   "outputs": [
    {
     "name": "stdout",
     "output_type": "stream",
     "text": [
      "Tests Passed\n"
     ]
    }
   ],
   "source": [
    "def model_inputs():\n",
    "    \"\"\"\n",
    "    Create TF Placeholders for input, targets, learning rate, and lengths of source and target sequences.\n",
    "    :return: Tuple (input, targets, learning rate, keep probability, target sequence length,\n",
    "    max target sequence length, source sequence length)\n",
    "    \"\"\"\n",
    "    input_data = tf.placeholder(tf.int32, [None, None], name='input')\n",
    "    targets = tf.placeholder(tf.int32, [None, None], name='targets')\n",
    "    \n",
    "    lr = tf.placeholder(tf.float32, name='learning_rate')\n",
    "    keep_prob = tf.placeholder(tf.float32, name=\"keep_prob\")\n",
    "    \n",
    "    target_sequence_length = tf.placeholder(tf.int32, [None], name='target_sequence_length')\n",
    "    max_target_sequence_length = tf.reduce_max(target_sequence_length, name='max_target_len')\n",
    "    source_sequence_length = tf.placeholder(tf.int32, [None], name='source_sequence_length')\n",
    "    \n",
    "    return input_data, targets, lr, keep_prob, target_sequence_length, max_target_sequence_length, source_sequence_length\n",
    "\n",
    "\n",
    "\"\"\"\n",
    "DON'T MODIFY ANYTHING IN THIS CELL THAT IS BELOW THIS LINE\n",
    "\"\"\"\n",
    "tests.test_model_inputs(model_inputs)"
   ]
  },
  {
   "cell_type": "markdown",
   "metadata": {},
   "source": [
    "### Process Decoder Input\n",
    "Implement `process_decoder_input` by removing the last word id from each batch in `target_data` and concat the GO ID to the begining of each batch."
   ]
  },
  {
   "cell_type": "code",
   "execution_count": 4,
   "metadata": {},
   "outputs": [
    {
     "name": "stdout",
     "output_type": "stream",
     "text": [
      "Tests Passed\n"
     ]
    }
   ],
   "source": [
    "def process_decoder_input(target_data, target_vocab_to_int, batch_size):\n",
    "    \"\"\"\n",
    "    Preprocess target data for encoding\n",
    "    :param target_data: Target Placehoder\n",
    "    :param target_vocab_to_int: Dictionary to go from the target words to an id\n",
    "    :param batch_size: Batch Size\n",
    "    :return: Preprocessed target data\n",
    "    \"\"\"\n",
    "    ending = tf.strided_slice(target_data, [0, 0], [batch_size, -1], [1, 1])\n",
    "    dec_input = tf.concat([tf.fill([batch_size, 1], target_vocab_to_int['<GO>']), ending], 1)\n",
    "\n",
    "    return dec_input\n",
    "\n",
    "\"\"\"\n",
    "DON'T MODIFY ANYTHING IN THIS CELL THAT IS BELOW THIS LINE\n",
    "\"\"\"\n",
    "tests.test_process_encoding_input(process_decoder_input)"
   ]
  },
  {
   "cell_type": "markdown",
   "metadata": {},
   "source": [
    "### Encoding\n",
    "Implement `encoding_layer()` to create a Encoder RNN layer:\n",
    " * Embed the encoder input using [`tf.contrib.layers.embed_sequence`](https://www.tensorflow.org/api_docs/python/tf/contrib/layers/embed_sequence)\n",
    " * Construct a [stacked](https://github.com/tensorflow/tensorflow/blob/6947f65a374ebf29e74bb71e36fd82760056d82c/tensorflow/docs_src/tutorials/recurrent.md#stacking-multiple-lstms) [`tf.contrib.rnn.LSTMCell`](https://www.tensorflow.org/api_docs/python/tf/contrib/rnn/LSTMCell) wrapped in a [`tf.contrib.rnn.DropoutWrapper`](https://www.tensorflow.org/api_docs/python/tf/contrib/rnn/DropoutWrapper)\n",
    " * Pass cell and embedded input to [`tf.nn.dynamic_rnn()`](https://www.tensorflow.org/api_docs/python/tf/nn/dynamic_rnn)"
   ]
  },
  {
   "cell_type": "code",
   "execution_count": 5,
   "metadata": {
    "scrolled": false
   },
   "outputs": [
    {
     "name": "stdout",
     "output_type": "stream",
     "text": [
      "Tests Passed\n"
     ]
    }
   ],
   "source": [
    "from imp import reload\n",
    "reload(tests)\n",
    "\n",
    "def encoding_layer(rnn_inputs, rnn_size, num_layers, keep_prob, \n",
    "                   source_sequence_length, source_vocab_size, \n",
    "                   encoding_embedding_size):\n",
    "    \"\"\"\n",
    "    Create encoding layer\n",
    "    :param rnn_inputs: Inputs for the RNN\n",
    "    :param rnn_size: RNN Size\n",
    "    :param num_layers: Number of layers\n",
    "    :param keep_prob: Dropout keep probability\n",
    "    :param source_sequence_length: a list of the lengths of each sequence in the batch\n",
    "    :param source_vocab_size: vocabulary size of source data\n",
    "    :param encoding_embedding_size: embedding size of source data\n",
    "    :return: tuple (RNN output, RNN state)\n",
    "    \"\"\"\n",
    "    # Encoder embedding\n",
    "    enc_embed_input = tf.contrib.layers.embed_sequence(rnn_inputs, source_vocab_size, encoding_embedding_size)\n",
    "\n",
    "    # RNN cell\n",
    "    def make_cell(rnn_size):\n",
    "        enc_cell = tf.contrib.rnn.LSTMCell(rnn_size,\n",
    "                                           initializer=tf.random_uniform_initializer(-0.1, 0.1, seed=2))\n",
    "        enc_cell = tf.contrib.rnn.DropoutWrapper(enc_cell, keep_prob)\n",
    "        return enc_cell\n",
    "\n",
    "    enc_cell = tf.contrib.rnn.MultiRNNCell([make_cell(rnn_size) for _ in range(num_layers)])\n",
    "    \n",
    "    enc_output, enc_state = tf.nn.dynamic_rnn(enc_cell, enc_embed_input, sequence_length=source_sequence_length, dtype=tf.float32)\n",
    "    \n",
    "    return enc_output, enc_state\n",
    "\n",
    "\"\"\"\n",
    "DON'T MODIFY ANYTHING IN THIS CELL THAT IS BELOW THIS LINE\n",
    "\"\"\"\n",
    "tests.test_encoding_layer(encoding_layer)"
   ]
  },
  {
   "cell_type": "markdown",
   "metadata": {},
   "source": [
    "### Decoding - Training\n",
    "Create a training decoding layer:\n",
    "* Create a [`tf.contrib.seq2seq.TrainingHelper`](https://www.tensorflow.org/api_docs/python/tf/contrib/seq2seq/TrainingHelper) \n",
    "* Create a [`tf.contrib.seq2seq.BasicDecoder`](https://www.tensorflow.org/api_docs/python/tf/contrib/seq2seq/BasicDecoder)\n",
    "* Obtain the decoder outputs from [`tf.contrib.seq2seq.dynamic_decode`](https://www.tensorflow.org/api_docs/python/tf/contrib/seq2seq/dynamic_decode)"
   ]
  },
  {
   "cell_type": "code",
   "execution_count": 6,
   "metadata": {},
   "outputs": [
    {
     "name": "stdout",
     "output_type": "stream",
     "text": [
      "Tests Passed\n"
     ]
    }
   ],
   "source": [
    "\n",
    "def decoding_layer_train(encoder_state, dec_cell, dec_embed_input, \n",
    "                         target_sequence_length, max_summary_length, \n",
    "                         output_layer, keep_prob):\n",
    "    \"\"\"\n",
    "    Create a decoding layer for training\n",
    "    :param encoder_state: Encoder State\n",
    "    :param dec_cell: Decoder RNN Cell\n",
    "    :param dec_embed_input: Decoder embedded input\n",
    "    :param target_sequence_length: The lengths of each sequence in the target batch\n",
    "    :param max_summary_length: The length of the longest sequence in the batch\n",
    "    :param output_layer: Function to apply the output layer\n",
    "    :param keep_prob: Dropout keep probability\n",
    "    :return: BasicDecoderOutput containing training logits and sample_id\n",
    "    \"\"\"\n",
    "    # Helper for the training process. Used by BasicDecoder to read inputs.\n",
    "    training_helper = tf.contrib.seq2seq.TrainingHelper(inputs=dec_embed_input,\n",
    "                                                            sequence_length=target_sequence_length,\n",
    "                                                            time_major=False)\n",
    "        \n",
    "    # Basic decoder\n",
    "    training_decoder = tf.contrib.seq2seq.BasicDecoder(dec_cell,\n",
    "                                                           training_helper,\n",
    "                                                           encoder_state,\n",
    "                                                           output_layer)\n",
    "        \n",
    "    # Perform dynamic decoding using the decoder\n",
    "    training_decoder_output = tf.contrib.seq2seq.dynamic_decode(training_decoder,\n",
    "                                                    impute_finished=True,\n",
    "                                                    maximum_iterations=max_summary_length)[0]\n",
    "        \n",
    "    # Dropout somewhere here ?\n",
    "    \n",
    "    return training_decoder_output\n",
    "\n",
    "\n",
    "\n",
    "\"\"\"\n",
    "DON'T MODIFY ANYTHING IN THIS CELL THAT IS BELOW THIS LINE\n",
    "\"\"\"\n",
    "tests.test_decoding_layer_train(decoding_layer_train)"
   ]
  },
  {
   "cell_type": "markdown",
   "metadata": {},
   "source": [
    "### Decoding - Inference\n",
    "Create inference decoder:\n",
    "* Create a [`tf.contrib.seq2seq.GreedyEmbeddingHelper`](https://www.tensorflow.org/api_docs/python/tf/contrib/seq2seq/GreedyEmbeddingHelper)\n",
    "* Create a [`tf.contrib.seq2seq.BasicDecoder`](https://www.tensorflow.org/api_docs/python/tf/contrib/seq2seq/BasicDecoder)\n",
    "* Obtain the decoder outputs from [`tf.contrib.seq2seq.dynamic_decode`](https://www.tensorflow.org/api_docs/python/tf/contrib/seq2seq/dynamic_decode)"
   ]
  },
  {
   "cell_type": "code",
   "execution_count": 7,
   "metadata": {
    "scrolled": true
   },
   "outputs": [
    {
     "name": "stdout",
     "output_type": "stream",
     "text": [
      "Tests Passed\n"
     ]
    }
   ],
   "source": [
    "def decoding_layer_infer(encoder_state, dec_cell, dec_embeddings, start_of_sequence_id,\n",
    "                         end_of_sequence_id, max_target_sequence_length,\n",
    "                         vocab_size, output_layer, batch_size, keep_prob):\n",
    "    \"\"\"\n",
    "    Create a decoding layer for inference\n",
    "    :param encoder_state: Encoder state\n",
    "    :param dec_cell: Decoder RNN Cell\n",
    "    :param dec_embeddings: Decoder embeddings\n",
    "    :param start_of_sequence_id: GO ID\n",
    "    :param end_of_sequence_id: EOS Id\n",
    "    :param max_target_sequence_length: Maximum length of target sequences\n",
    "    :param vocab_size: Size of decoder/target vocabulary\n",
    "    :param decoding_scope: TenorFlow Variable Scope for decoding\n",
    "    :param output_layer: Function to apply the output layer\n",
    "    :param batch_size: Batch size\n",
    "    :param keep_prob: Dropout keep probability\n",
    "    :return: BasicDecoderOutput containing inference logits and sample_id\n",
    "    \"\"\"\n",
    "    start_tokens = tf.tile(tf.constant([start_of_sequence_id], dtype=tf.int32), \n",
    "                               [batch_size])\n",
    "\n",
    "    # Helper for the inference process.\n",
    "    inference_helper = tf.contrib.seq2seq.GreedyEmbeddingHelper(dec_embeddings,\n",
    "                                                                start_tokens,\n",
    "                                                                end_of_sequence_id)\n",
    "\n",
    "    # Basic decoder\n",
    "    inference_decoder = tf.contrib.seq2seq.BasicDecoder(dec_cell,\n",
    "                                                        inference_helper,\n",
    "                                                        encoder_state,\n",
    "                                                        output_layer)\n",
    "        \n",
    "    # Perform dynamic decoding using the decoder\n",
    "    inference_decoder_output = tf.contrib.seq2seq.dynamic_decode(inference_decoder,\n",
    "                                                            impute_finished=True,\n",
    "                                                            maximum_iterations=max_target_sequence_length)[0]    \n",
    "    \n",
    "    return inference_decoder_output\n",
    "\n",
    "\n",
    "\n",
    "\"\"\"\n",
    "DON'T MODIFY ANYTHING IN THIS CELL THAT IS BELOW THIS LINE\n",
    "\"\"\"\n",
    "tests.test_decoding_layer_infer(decoding_layer_infer)"
   ]
  },
  {
   "cell_type": "markdown",
   "metadata": {},
   "source": [
    "### Build the Decoding Layer\n",
    "Implement `decoding_layer()` to create a Decoder RNN layer.\n",
    "\n",
    "* Embed the target sequences\n",
    "* Construct the decoder LSTM cell (just like you constructed the encoder cell above)\n",
    "* Create an output layer to map the outputs of the decoder to the elements of our vocabulary\n",
    "* Use the your `decoding_layer_train(encoder_state, dec_cell, dec_embed_input, target_sequence_length, max_target_sequence_length, output_layer, keep_prob)` function to get the training logits.\n",
    "* Use your `decoding_layer_infer(encoder_state, dec_cell, dec_embeddings, start_of_sequence_id, end_of_sequence_id, max_target_sequence_length, vocab_size, output_layer, batch_size, keep_prob)` function to get the inference logits.\n",
    "\n",
    "Note: You'll need to use [tf.variable_scope](https://www.tensorflow.org/api_docs/python/tf/variable_scope) to share variables between training and inference."
   ]
  },
  {
   "cell_type": "code",
   "execution_count": 8,
   "metadata": {},
   "outputs": [
    {
     "name": "stdout",
     "output_type": "stream",
     "text": [
      "Tests Passed\n"
     ]
    }
   ],
   "source": [
    "def decoding_layer(dec_input, encoder_state,\n",
    "                   target_sequence_length, max_target_sequence_length,\n",
    "                   rnn_size,\n",
    "                   num_layers, target_vocab_to_int, target_vocab_size,\n",
    "                   batch_size, keep_prob, decoding_embedding_size):\n",
    "    \"\"\"\n",
    "    Create decoding layer\n",
    "    :param dec_input: Decoder input\n",
    "    :param encoder_state: Encoder state\n",
    "    :param target_sequence_length: The lengths of each sequence in the target batch\n",
    "    :param max_target_sequence_length: Maximum length of target sequences\n",
    "    :param rnn_size: RNN Size\n",
    "    :param num_layers: Number of layers\n",
    "    :param target_vocab_to_int: Dictionary to go from the target words to an id\n",
    "    :param target_vocab_size: Size of target vocabulary\n",
    "    :param batch_size: The size of the batch\n",
    "    :param keep_prob: Dropout keep probability\n",
    "    :param decoding_embedding_size: Decoding embedding size\n",
    "    :return: Tuple of (Training BasicDecoderOutput, Inference BasicDecoderOutput)\n",
    "    \"\"\"\n",
    "    \n",
    "    dec_embeddings = tf.Variable(tf.random_uniform([target_vocab_size, decoding_embedding_size]))\n",
    "    dec_embed_input = tf.nn.embedding_lookup(dec_embeddings, dec_input)\n",
    "    \n",
    "    end_of_sequence_id = target_vocab_to_int['<EOS>']\n",
    "    start_of_sequence_id = target_vocab_to_int['<GO>']\n",
    "    \n",
    "    def make_cell(rnn_size):\n",
    "        dec_cell = tf.contrib.rnn.LSTMCell(rnn_size,\n",
    "                                           initializer=tf.random_uniform_initializer(-0.1, 0.1, seed=2))\n",
    "        dec_cell = tf.contrib.rnn.DropoutWrapper(dec_cell, keep_prob)\n",
    "        return dec_cell\n",
    "\n",
    "    dec_cell = tf.contrib.rnn.MultiRNNCell([make_cell(rnn_size) for _ in range(num_layers)])\n",
    "    \n",
    "    output_layer = Dense(target_vocab_size,\n",
    "                         kernel_initializer = tf.truncated_normal_initializer(mean = 0.0, stddev=0.1))    \n",
    "    \n",
    "    with tf.variable_scope('decode'):\n",
    "        t_basic_decoder_output = decoding_layer_train(encoder_state, dec_cell, dec_embed_input, \n",
    "                             target_sequence_length, max_target_sequence_length, \n",
    "                             output_layer, keep_prob)\n",
    "    \n",
    "    with tf.variable_scope('decode', reuse=True):\n",
    "        i_basic_decoder_output = decoding_layer_infer(encoder_state, dec_cell, dec_embeddings, start_of_sequence_id,\n",
    "                             end_of_sequence_id, max_target_sequence_length,\n",
    "                             target_vocab_size, output_layer, batch_size, keep_prob)\n",
    "\n",
    "    \n",
    "    return t_basic_decoder_output, i_basic_decoder_output\n",
    "\n",
    "\n",
    "\n",
    "\"\"\"\n",
    "DON'T MODIFY ANYTHING IN THIS CELL THAT IS BELOW THIS LINE\n",
    "\"\"\"\n",
    "tests.test_decoding_layer(decoding_layer)"
   ]
  },
  {
   "cell_type": "markdown",
   "metadata": {},
   "source": [
    "### Build the Neural Network\n",
    "Apply the functions you implemented above to:\n",
    "\n",
    "- Encode the input using your `encoding_layer(rnn_inputs, rnn_size, num_layers, keep_prob,  source_sequence_length, source_vocab_size, encoding_embedding_size)`.\n",
    "- Process target data using your `process_decoder_input(target_data, target_vocab_to_int, batch_size)` function.\n",
    "- Decode the encoded input using your `decoding_layer(dec_input, enc_state, target_sequence_length, max_target_sentence_length, rnn_size, num_layers, target_vocab_to_int, target_vocab_size, batch_size, keep_prob, dec_embedding_size)` function."
   ]
  },
  {
   "cell_type": "code",
   "execution_count": 9,
   "metadata": {},
   "outputs": [
    {
     "name": "stdout",
     "output_type": "stream",
     "text": [
      "Tests Passed\n"
     ]
    }
   ],
   "source": [
    "def seq2seq_model(input_data, target_data, keep_prob, batch_size,\n",
    "                  source_sequence_length, target_sequence_length,\n",
    "                  max_target_sentence_length,\n",
    "                  source_vocab_size, target_vocab_size,\n",
    "                  enc_embedding_size, dec_embedding_size,\n",
    "                  rnn_size, num_layers, target_vocab_to_int):\n",
    "    \"\"\"\n",
    "    Build the Sequence-to-Sequence part of the neural network\n",
    "    :param input_data: Input placeholder\n",
    "    :param target_data: Target placeholder\n",
    "    :param keep_prob: Dropout keep probability placeholder\n",
    "    :param batch_size: Batch Size\n",
    "    :param source_sequence_length: Sequence Lengths of source sequences in the batch\n",
    "    :param target_sequence_length: Sequence Lengths of target sequences in the batch\n",
    "    :param source_vocab_size: Source vocabulary size\n",
    "    :param target_vocab_size: Target vocabulary size\n",
    "    :param enc_embedding_size: Decoder embedding size\n",
    "    :param dec_embedding_size: Encoder embedding size\n",
    "    :param rnn_size: RNN Size\n",
    "    :param num_layers: Number of layers\n",
    "    :param target_vocab_to_int: Dictionary to go from the target words to an id\n",
    "    :return: Tuple of (Training BasicDecoderOutput, Inference BasicDecoderOutput)\n",
    "    \"\"\"\n",
    "    _, enc_state = encoding_layer(input_data, \n",
    "                                  rnn_size, \n",
    "                                  num_layers, \n",
    "                                  keep_prob,\n",
    "                                  source_sequence_length,\n",
    "                                  source_vocab_size, \n",
    "                                  enc_embedding_size)\n",
    "    \n",
    "    dec_input = process_decoder_input(target_data, target_vocab_to_int, batch_size)\n",
    "    \n",
    "    training_decoder_output, inference_decoder_output = decoding_layer(dec_input, enc_state, \n",
    "                                                   target_sequence_length, max_target_sentence_length, \n",
    "                                                   rnn_size, num_layers, target_vocab_to_int, \n",
    "                                                   target_vocab_size, batch_size, keep_prob, \n",
    "                                                   dec_embedding_size)\n",
    "    \n",
    "    return training_decoder_output, inference_decoder_output\n",
    "\n",
    "\"\"\"\n",
    "DON'T MODIFY ANYTHING IN THIS CELL THAT IS BELOW THIS LINE\n",
    "\"\"\"\n",
    "tests.test_seq2seq_model(seq2seq_model)"
   ]
  },
  {
   "cell_type": "markdown",
   "metadata": {},
   "source": [
    "## Neural Network Training\n",
    "### Hyperparameters\n",
    "Tune the following parameters:\n",
    "\n",
    "- Set `epochs` to the number of epochs.\n",
    "- Set `batch_size` to the batch size.\n",
    "- Set `rnn_size` to the size of the RNNs.\n",
    "- Set `num_layers` to the number of layers.\n",
    "- Set `encoding_embedding_size` to the size of the embedding for the encoder.\n",
    "- Set `decoding_embedding_size` to the size of the embedding for the decoder.\n",
    "- Set `learning_rate` to the learning rate.\n",
    "- Set `keep_probability` to the Dropout keep probability\n",
    "- Set `display_step` to state how many steps between each debug output statement"
   ]
  },
  {
   "cell_type": "code",
   "execution_count": 10,
   "metadata": {
    "collapsed": true
   },
   "outputs": [],
   "source": [
    "###### Number of Epochs\n",
    "epochs = 5\n",
    "# Batch Size\n",
    "batch_size = 2400\n",
    "# RNN Size\n",
    "rnn_size = 256\n",
    "# Number of Layers\n",
    "num_layers = 3\n",
    "# Embedding Size\n",
    "encoding_embedding_size = 128\n",
    "decoding_embedding_size = 128\n",
    "# Learning Rate\n",
    "learning_rate = 0.01\n",
    "# Dropout Keep Probability\n",
    "keep_probability = 0.5\n",
    "display_step = 1"
   ]
  },
  {
   "cell_type": "markdown",
   "metadata": {},
   "source": [
    "### Build the Graph\n",
    "Build the graph using the neural network you implemented."
   ]
  },
  {
   "cell_type": "code",
   "execution_count": 11,
   "metadata": {
    "collapsed": true
   },
   "outputs": [],
   "source": [
    "\"\"\"\n",
    "DON'T MODIFY ANYTHING IN THIS CELL\n",
    "\"\"\"\n",
    "save_path = 'checkpoints/dev'\n",
    "(source_int_text, target_int_text), (source_vocab_to_int, target_vocab_to_int), _ = helper.load_preprocess()\n",
    "max_target_sentence_length = max([len(sentence) for sentence in source_int_text])\n",
    "\n",
    "train_graph = tf.Graph()\n",
    "with train_graph.as_default():\n",
    "    input_data, targets, lr, keep_prob, target_sequence_length, max_target_sequence_length, source_sequence_length = model_inputs()\n",
    "\n",
    "    #sequence_length = tf.placeholder_with_default(max_target_sentence_length, None, name='sequence_length')\n",
    "    input_shape = tf.shape(input_data)\n",
    "\n",
    "    train_logits, inference_logits = seq2seq_model(tf.reverse(input_data, [-1]),\n",
    "                                                   targets,\n",
    "                                                   keep_prob,\n",
    "                                                   batch_size,\n",
    "                                                   source_sequence_length,\n",
    "                                                   target_sequence_length,\n",
    "                                                   max_target_sequence_length,\n",
    "                                                   len(source_vocab_to_int),\n",
    "                                                   len(target_vocab_to_int),\n",
    "                                                   encoding_embedding_size,\n",
    "                                                   decoding_embedding_size,\n",
    "                                                   rnn_size,\n",
    "                                                   num_layers,\n",
    "                                                   target_vocab_to_int)\n",
    "\n",
    "\n",
    "    training_logits = tf.identity(train_logits.rnn_output, name='logits')\n",
    "    inference_logits = tf.identity(inference_logits.sample_id, name='predictions')\n",
    "\n",
    "    masks = tf.sequence_mask(target_sequence_length, max_target_sequence_length, dtype=tf.float32, name='masks')\n",
    "\n",
    "    with tf.name_scope(\"optimization\"):\n",
    "        # Loss function\n",
    "        cost = tf.contrib.seq2seq.sequence_loss(\n",
    "            training_logits,\n",
    "            targets,\n",
    "            masks)\n",
    "\n",
    "        # Optimizer\n",
    "        optimizer = tf.train.AdamOptimizer(lr)\n",
    "\n",
    "        # Gradient Clipping\n",
    "        gradients = optimizer.compute_gradients(cost)\n",
    "        capped_gradients = [(tf.clip_by_value(grad, -1., 1.), var) for grad, var in gradients if grad is not None]\n",
    "        train_op = optimizer.apply_gradients(capped_gradients)\n"
   ]
  },
  {
   "cell_type": "markdown",
   "metadata": {},
   "source": [
    "Batch and pad the source and target sequences"
   ]
  },
  {
   "cell_type": "code",
   "execution_count": 12,
   "metadata": {
    "collapsed": true
   },
   "outputs": [],
   "source": [
    "\"\"\"\n",
    "DON'T MODIFY ANYTHING IN THIS CELL\n",
    "\"\"\"\n",
    "def pad_sentence_batch(sentence_batch, pad_int):\n",
    "    \"\"\"Pad sentences with <PAD> so that each sentence of a batch has the same length\"\"\"\n",
    "    max_sentence = max([len(sentence) for sentence in sentence_batch])\n",
    "    return [sentence + [pad_int] * (max_sentence - len(sentence)) for sentence in sentence_batch]\n",
    "\n",
    "\n",
    "def get_batches(sources, targets, batch_size, source_pad_int, target_pad_int):\n",
    "    \"\"\"Batch targets, sources, and the lengths of their sentences together\"\"\"\n",
    "    for batch_i in range(0, len(sources)//batch_size):\n",
    "        start_i = batch_i * batch_size\n",
    "\n",
    "        # Slice the right amount for the batch\n",
    "        sources_batch = sources[start_i:start_i + batch_size]\n",
    "        targets_batch = targets[start_i:start_i + batch_size]\n",
    "\n",
    "        # Pad\n",
    "        pad_sources_batch = np.array(pad_sentence_batch(sources_batch, source_pad_int))\n",
    "        pad_targets_batch = np.array(pad_sentence_batch(targets_batch, target_pad_int))\n",
    "\n",
    "        # Need the lengths for the _lengths parameters\n",
    "        pad_targets_lengths = []\n",
    "        for target in pad_targets_batch:\n",
    "            pad_targets_lengths.append(len(target))\n",
    "\n",
    "        pad_source_lengths = []\n",
    "        for source in pad_sources_batch:\n",
    "            pad_source_lengths.append(len(source))\n",
    "\n",
    "        yield pad_sources_batch, pad_targets_batch, pad_source_lengths, pad_targets_lengths\n"
   ]
  },
  {
   "cell_type": "markdown",
   "metadata": {},
   "source": [
    "### Train\n",
    "Train the neural network on the preprocessed data. If you have a hard time getting a good loss, check the forms to see if anyone is having the same problem."
   ]
  },
  {
   "cell_type": "code",
   "execution_count": 13,
   "metadata": {
    "scrolled": true
   },
   "outputs": [
    {
     "name": "stdout",
     "output_type": "stream",
     "text": [
      "Epoch   0 Batch    1/57 - Train Accuracy: 0.3069, Validation Accuracy: 0.3389, Loss: 4.8163\n",
      "Epoch   0 Batch    2/57 - Train Accuracy: 0.3097, Validation Accuracy: 0.3138, Loss: 4.1401\n",
      "Epoch   0 Batch    3/57 - Train Accuracy: 0.3121, Validation Accuracy: 0.3122, Loss: 3.7064\n",
      "Epoch   0 Batch    4/57 - Train Accuracy: 0.3475, Validation Accuracy: 0.3424, Loss: 3.4466\n",
      "Epoch   0 Batch    5/57 - Train Accuracy: 0.3198, Validation Accuracy: 0.3540, Loss: 3.3541\n",
      "Epoch   0 Batch    6/57 - Train Accuracy: 0.3110, Validation Accuracy: 0.3430, Loss: 3.2367\n",
      "Epoch   0 Batch    7/57 - Train Accuracy: 0.3233, Validation Accuracy: 0.3533, Loss: 3.1918\n",
      "Epoch   0 Batch    8/57 - Train Accuracy: 0.3504, Validation Accuracy: 0.3471, Loss: 2.9781\n",
      "Epoch   0 Batch    9/57 - Train Accuracy: 0.3503, Validation Accuracy: 0.3472, Loss: 2.9112\n",
      "Epoch   0 Batch   10/57 - Train Accuracy: 0.3187, Validation Accuracy: 0.3471, Loss: 2.9617\n",
      "Epoch   0 Batch   11/57 - Train Accuracy: 0.3200, Validation Accuracy: 0.3482, Loss: 2.8952\n",
      "Epoch   0 Batch   12/57 - Train Accuracy: 0.3649, Validation Accuracy: 0.3679, Loss: 2.7219\n",
      "Epoch   0 Batch   13/57 - Train Accuracy: 0.3802, Validation Accuracy: 0.3801, Loss: 2.6481\n",
      "Epoch   0 Batch   14/57 - Train Accuracy: 0.3854, Validation Accuracy: 0.3816, Loss: 2.5728\n",
      "Epoch   0 Batch   15/57 - Train Accuracy: 0.3199, Validation Accuracy: 0.3506, Loss: 2.6383\n",
      "Epoch   0 Batch   16/57 - Train Accuracy: 0.3631, Validation Accuracy: 0.3896, Loss: 2.6092\n",
      "Epoch   0 Batch   17/57 - Train Accuracy: 0.3413, Validation Accuracy: 0.3727, Loss: 2.4970\n",
      "Epoch   0 Batch   18/57 - Train Accuracy: 0.3764, Validation Accuracy: 0.4031, Loss: 2.4651\n",
      "Epoch   0 Batch   19/57 - Train Accuracy: 0.4198, Validation Accuracy: 0.4201, Loss: 2.2842\n",
      "Epoch   0 Batch   20/57 - Train Accuracy: 0.3817, Validation Accuracy: 0.4030, Loss: 2.3262\n",
      "Epoch   0 Batch   21/57 - Train Accuracy: 0.3764, Validation Accuracy: 0.4029, Loss: 2.2662\n",
      "Epoch   0 Batch   22/57 - Train Accuracy: 0.3821, Validation Accuracy: 0.4076, Loss: 2.2192\n",
      "Epoch   0 Batch   23/57 - Train Accuracy: 0.4113, Validation Accuracy: 0.4061, Loss: 2.0420\n",
      "Epoch   0 Batch   24/57 - Train Accuracy: 0.3891, Validation Accuracy: 0.4110, Loss: 2.0674\n",
      "Epoch   0 Batch   25/57 - Train Accuracy: 0.3855, Validation Accuracy: 0.4128, Loss: 2.0050\n",
      "Epoch   0 Batch   26/57 - Train Accuracy: 0.3959, Validation Accuracy: 0.4154, Loss: 1.9324\n",
      "Epoch   0 Batch   27/57 - Train Accuracy: 0.4086, Validation Accuracy: 0.4370, Loss: 1.8878\n",
      "Epoch   0 Batch   28/57 - Train Accuracy: 0.4335, Validation Accuracy: 0.4571, Loss: 1.8186\n",
      "Epoch   0 Batch   29/57 - Train Accuracy: 0.4462, Validation Accuracy: 0.4661, Loss: 1.7434\n",
      "Epoch   0 Batch   30/57 - Train Accuracy: 0.4551, Validation Accuracy: 0.4620, Loss: 1.6376\n",
      "Epoch   0 Batch   31/57 - Train Accuracy: 0.4677, Validation Accuracy: 0.4635, Loss: 1.5683\n",
      "Epoch   0 Batch   32/57 - Train Accuracy: 0.4768, Validation Accuracy: 0.4784, Loss: 1.5026\n",
      "Epoch   0 Batch   33/57 - Train Accuracy: 0.4644, Validation Accuracy: 0.4931, Loss: 1.5300\n",
      "Epoch   0 Batch   34/57 - Train Accuracy: 0.4878, Validation Accuracy: 0.4834, Loss: 1.3958\n",
      "Epoch   0 Batch   35/57 - Train Accuracy: 0.4642, Validation Accuracy: 0.4898, Loss: 1.4140\n",
      "Epoch   0 Batch   36/57 - Train Accuracy: 0.4756, Validation Accuracy: 0.5013, Loss: 1.3723\n",
      "Epoch   0 Batch   37/57 - Train Accuracy: 0.4994, Validation Accuracy: 0.4972, Loss: 1.2511\n",
      "Epoch   0 Batch   38/57 - Train Accuracy: 0.5453, Validation Accuracy: 0.4983, Loss: 1.1000\n",
      "Epoch   0 Batch   39/57 - Train Accuracy: 0.4879, Validation Accuracy: 0.5027, Loss: 1.1963\n",
      "Epoch   0 Batch   40/57 - Train Accuracy: 0.4859, Validation Accuracy: 0.5049, Loss: 1.1884\n",
      "Epoch   0 Batch   41/57 - Train Accuracy: 0.4786, Validation Accuracy: 0.5041, Loss: 1.1461\n",
      "Epoch   0 Batch   42/57 - Train Accuracy: 0.4834, Validation Accuracy: 0.5023, Loss: 1.1020\n",
      "Epoch   0 Batch   43/57 - Train Accuracy: 0.4981, Validation Accuracy: 0.4994, Loss: 1.0269\n",
      "Epoch   0 Batch   44/57 - Train Accuracy: 0.4945, Validation Accuracy: 0.5039, Loss: 1.0349\n",
      "Epoch   0 Batch   45/57 - Train Accuracy: 0.5106, Validation Accuracy: 0.5052, Loss: 0.9674\n",
      "Epoch   0 Batch   46/57 - Train Accuracy: 0.5277, Validation Accuracy: 0.5193, Loss: 0.9349\n",
      "Epoch   0 Batch   47/57 - Train Accuracy: 0.5674, Validation Accuracy: 0.5210, Loss: 0.8525\n",
      "Epoch   0 Batch   48/57 - Train Accuracy: 0.5036, Validation Accuracy: 0.5254, Loss: 0.9465\n",
      "Epoch   0 Batch   49/57 - Train Accuracy: 0.5029, Validation Accuracy: 0.5260, Loss: 0.9345\n",
      "Epoch   0 Batch   50/57 - Train Accuracy: 0.5475, Validation Accuracy: 0.5203, Loss: 0.8393\n",
      "Epoch   0 Batch   51/57 - Train Accuracy: 0.5205, Validation Accuracy: 0.5326, Loss: 0.8921\n",
      "Epoch   0 Batch   52/57 - Train Accuracy: 0.5451, Validation Accuracy: 0.5360, Loss: 0.8347\n",
      "Epoch   0 Batch   53/57 - Train Accuracy: 0.5386, Validation Accuracy: 0.5389, Loss: 0.8378\n",
      "Epoch   0 Batch   54/57 - Train Accuracy: 0.5160, Validation Accuracy: 0.5345, Loss: 0.8617\n",
      "Epoch   0 Batch   55/57 - Train Accuracy: 0.5157, Validation Accuracy: 0.5329, Loss: 0.8501\n",
      "Epoch   1 Batch    1/57 - Train Accuracy: 0.5253, Validation Accuracy: 0.5411, Loss: 0.8267\n",
      "Epoch   1 Batch    2/57 - Train Accuracy: 0.5571, Validation Accuracy: 0.5497, Loss: 0.7720\n",
      "Epoch   1 Batch    3/57 - Train Accuracy: 0.5591, Validation Accuracy: 0.5505, Loss: 0.7603\n",
      "Epoch   1 Batch    4/57 - Train Accuracy: 0.5635, Validation Accuracy: 0.5537, Loss: 0.7584\n",
      "Epoch   1 Batch    5/57 - Train Accuracy: 0.5321, Validation Accuracy: 0.5547, Loss: 0.7816\n",
      "Epoch   1 Batch    6/57 - Train Accuracy: 0.5378, Validation Accuracy: 0.5531, Loss: 0.7732\n",
      "Epoch   1 Batch    7/57 - Train Accuracy: 0.5382, Validation Accuracy: 0.5561, Loss: 0.7689\n",
      "Epoch   1 Batch    8/57 - Train Accuracy: 0.5674, Validation Accuracy: 0.5630, Loss: 0.7274\n",
      "Epoch   1 Batch    9/57 - Train Accuracy: 0.5768, Validation Accuracy: 0.5665, Loss: 0.7080\n",
      "Epoch   1 Batch   10/57 - Train Accuracy: 0.5575, Validation Accuracy: 0.5738, Loss: 0.7377\n",
      "Epoch   1 Batch   11/57 - Train Accuracy: 0.5603, Validation Accuracy: 0.5692, Loss: 0.7335\n",
      "Epoch   1 Batch   12/57 - Train Accuracy: 0.5761, Validation Accuracy: 0.5752, Loss: 0.6978\n",
      "Epoch   1 Batch   13/57 - Train Accuracy: 0.5701, Validation Accuracy: 0.5737, Loss: 0.7000\n",
      "Epoch   1 Batch   14/57 - Train Accuracy: 0.5713, Validation Accuracy: 0.5713, Loss: 0.6981\n",
      "Epoch   1 Batch   15/57 - Train Accuracy: 0.5661, Validation Accuracy: 0.5749, Loss: 0.7097\n",
      "Epoch   1 Batch   16/57 - Train Accuracy: 0.5637, Validation Accuracy: 0.5747, Loss: 0.6990\n",
      "Epoch   1 Batch   17/57 - Train Accuracy: 0.5549, Validation Accuracy: 0.5770, Loss: 0.7017\n",
      "Epoch   1 Batch   18/57 - Train Accuracy: 0.5552, Validation Accuracy: 0.5780, Loss: 0.6867\n",
      "Epoch   1 Batch   19/57 - Train Accuracy: 0.5875, Validation Accuracy: 0.5849, Loss: 0.6586\n",
      "Epoch   1 Batch   20/57 - Train Accuracy: 0.5840, Validation Accuracy: 0.5931, Loss: 0.6747\n",
      "Epoch   1 Batch   21/57 - Train Accuracy: 0.5662, Validation Accuracy: 0.5883, Loss: 0.6725\n",
      "Epoch   1 Batch   22/57 - Train Accuracy: 0.5681, Validation Accuracy: 0.5919, Loss: 0.6689\n",
      "Epoch   1 Batch   23/57 - Train Accuracy: 0.5995, Validation Accuracy: 0.5952, Loss: 0.6289\n",
      "Epoch   1 Batch   24/57 - Train Accuracy: 0.5824, Validation Accuracy: 0.5955, Loss: 0.6526\n",
      "Epoch   1 Batch   25/57 - Train Accuracy: 0.5830, Validation Accuracy: 0.5965, Loss: 0.6416\n",
      "Epoch   1 Batch   26/57 - Train Accuracy: 0.5886, Validation Accuracy: 0.5991, Loss: 0.6339\n",
      "Epoch   1 Batch   27/57 - Train Accuracy: 0.5879, Validation Accuracy: 0.6072, Loss: 0.6292\n",
      "Epoch   1 Batch   28/57 - Train Accuracy: 0.5913, Validation Accuracy: 0.6058, Loss: 0.6302\n",
      "Epoch   1 Batch   29/57 - Train Accuracy: 0.6033, Validation Accuracy: 0.6122, Loss: 0.6166\n",
      "Epoch   1 Batch   30/57 - Train Accuracy: 0.6182, Validation Accuracy: 0.6156, Loss: 0.5865\n",
      "Epoch   1 Batch   31/57 - Train Accuracy: 0.6258, Validation Accuracy: 0.6143, Loss: 0.5837\n",
      "Epoch   1 Batch   32/57 - Train Accuracy: 0.6138, Validation Accuracy: 0.6158, Loss: 0.5743\n",
      "Epoch   1 Batch   33/57 - Train Accuracy: 0.6054, Validation Accuracy: 0.6226, Loss: 0.5986\n",
      "Epoch   1 Batch   34/57 - Train Accuracy: 0.6257, Validation Accuracy: 0.6244, Loss: 0.5604\n",
      "Epoch   1 Batch   35/57 - Train Accuracy: 0.6123, Validation Accuracy: 0.6243, Loss: 0.5884\n"
     ]
    },
    {
     "name": "stdout",
     "output_type": "stream",
     "text": [
      "Epoch   1 Batch   36/57 - Train Accuracy: 0.6075, Validation Accuracy: 0.6319, Loss: 0.5863\n",
      "Epoch   1 Batch   37/57 - Train Accuracy: 0.6415, Validation Accuracy: 0.6402, Loss: 0.5432\n",
      "Epoch   1 Batch   38/57 - Train Accuracy: 0.6759, Validation Accuracy: 0.6477, Loss: 0.4921\n",
      "Epoch   1 Batch   39/57 - Train Accuracy: 0.6438, Validation Accuracy: 0.6566, Loss: 0.5497\n",
      "Epoch   1 Batch   40/57 - Train Accuracy: 0.6399, Validation Accuracy: 0.6612, Loss: 0.5561\n",
      "Epoch   1 Batch   41/57 - Train Accuracy: 0.6484, Validation Accuracy: 0.6670, Loss: 0.5493\n",
      "Epoch   1 Batch   42/57 - Train Accuracy: 0.6563, Validation Accuracy: 0.6765, Loss: 0.5403\n",
      "Epoch   1 Batch   43/57 - Train Accuracy: 0.6746, Validation Accuracy: 0.6709, Loss: 0.5096\n",
      "Epoch   1 Batch   44/57 - Train Accuracy: 0.6502, Validation Accuracy: 0.6684, Loss: 0.5291\n",
      "Epoch   1 Batch   45/57 - Train Accuracy: 0.6744, Validation Accuracy: 0.6760, Loss: 0.4965\n",
      "Epoch   1 Batch   46/57 - Train Accuracy: 0.6875, Validation Accuracy: 0.6846, Loss: 0.4930\n",
      "Epoch   1 Batch   47/57 - Train Accuracy: 0.7168, Validation Accuracy: 0.6843, Loss: 0.4476\n",
      "Epoch   1 Batch   48/57 - Train Accuracy: 0.6787, Validation Accuracy: 0.6934, Loss: 0.5068\n",
      "Epoch   1 Batch   49/57 - Train Accuracy: 0.6885, Validation Accuracy: 0.7015, Loss: 0.4962\n",
      "Epoch   1 Batch   50/57 - Train Accuracy: 0.7150, Validation Accuracy: 0.7016, Loss: 0.4505\n",
      "Epoch   1 Batch   51/57 - Train Accuracy: 0.6849, Validation Accuracy: 0.7088, Loss: 0.4901\n",
      "Epoch   1 Batch   52/57 - Train Accuracy: 0.7201, Validation Accuracy: 0.7104, Loss: 0.4550\n",
      "Epoch   1 Batch   53/57 - Train Accuracy: 0.7005, Validation Accuracy: 0.7094, Loss: 0.4632\n",
      "Epoch   1 Batch   54/57 - Train Accuracy: 0.6958, Validation Accuracy: 0.7149, Loss: 0.4774\n",
      "Epoch   1 Batch   55/57 - Train Accuracy: 0.7039, Validation Accuracy: 0.7168, Loss: 0.4699\n",
      "Epoch   2 Batch    1/57 - Train Accuracy: 0.7051, Validation Accuracy: 0.7211, Loss: 0.4636\n",
      "Epoch   2 Batch    2/57 - Train Accuracy: 0.7195, Validation Accuracy: 0.7271, Loss: 0.4290\n",
      "Epoch   2 Batch    3/57 - Train Accuracy: 0.7284, Validation Accuracy: 0.7268, Loss: 0.4205\n",
      "Epoch   2 Batch    4/57 - Train Accuracy: 0.7255, Validation Accuracy: 0.7235, Loss: 0.4209\n",
      "Epoch   2 Batch    5/57 - Train Accuracy: 0.7073, Validation Accuracy: 0.7236, Loss: 0.4345\n",
      "Epoch   2 Batch    6/57 - Train Accuracy: 0.7183, Validation Accuracy: 0.7304, Loss: 0.4293\n",
      "Epoch   2 Batch    7/57 - Train Accuracy: 0.7152, Validation Accuracy: 0.7295, Loss: 0.4248\n",
      "Epoch   2 Batch    8/57 - Train Accuracy: 0.7299, Validation Accuracy: 0.7257, Loss: 0.4047\n",
      "Epoch   2 Batch    9/57 - Train Accuracy: 0.7295, Validation Accuracy: 0.7336, Loss: 0.3955\n",
      "Epoch   2 Batch   10/57 - Train Accuracy: 0.7277, Validation Accuracy: 0.7359, Loss: 0.4044\n",
      "Epoch   2 Batch   11/57 - Train Accuracy: 0.7261, Validation Accuracy: 0.7379, Loss: 0.4029\n",
      "Epoch   2 Batch   12/57 - Train Accuracy: 0.7245, Validation Accuracy: 0.7379, Loss: 0.3844\n",
      "Epoch   2 Batch   13/57 - Train Accuracy: 0.7316, Validation Accuracy: 0.7394, Loss: 0.3815\n",
      "Epoch   2 Batch   14/57 - Train Accuracy: 0.7430, Validation Accuracy: 0.7472, Loss: 0.3812\n",
      "Epoch   2 Batch   15/57 - Train Accuracy: 0.7307, Validation Accuracy: 0.7473, Loss: 0.3830\n",
      "Epoch   2 Batch   16/57 - Train Accuracy: 0.7374, Validation Accuracy: 0.7484, Loss: 0.3793\n",
      "Epoch   2 Batch   17/57 - Train Accuracy: 0.7306, Validation Accuracy: 0.7480, Loss: 0.3780\n",
      "Epoch   2 Batch   18/57 - Train Accuracy: 0.7402, Validation Accuracy: 0.7502, Loss: 0.3699\n",
      "Epoch   2 Batch   19/57 - Train Accuracy: 0.7489, Validation Accuracy: 0.7547, Loss: 0.3552\n",
      "Epoch   2 Batch   20/57 - Train Accuracy: 0.7532, Validation Accuracy: 0.7586, Loss: 0.3607\n",
      "Epoch   2 Batch   21/57 - Train Accuracy: 0.7371, Validation Accuracy: 0.7543, Loss: 0.3594\n",
      "Epoch   2 Batch   22/57 - Train Accuracy: 0.7389, Validation Accuracy: 0.7623, Loss: 0.3580\n",
      "Epoch   2 Batch   23/57 - Train Accuracy: 0.7629, Validation Accuracy: 0.7631, Loss: 0.3335\n",
      "Epoch   2 Batch   24/57 - Train Accuracy: 0.7557, Validation Accuracy: 0.7573, Loss: 0.3448\n",
      "Epoch   2 Batch   25/57 - Train Accuracy: 0.7516, Validation Accuracy: 0.7601, Loss: 0.3376\n",
      "Epoch   2 Batch   26/57 - Train Accuracy: 0.7529, Validation Accuracy: 0.7644, Loss: 0.3344\n",
      "Epoch   2 Batch   27/57 - Train Accuracy: 0.7509, Validation Accuracy: 0.7625, Loss: 0.3315\n",
      "Epoch   2 Batch   28/57 - Train Accuracy: 0.7588, Validation Accuracy: 0.7725, Loss: 0.3295\n",
      "Epoch   2 Batch   29/57 - Train Accuracy: 0.7642, Validation Accuracy: 0.7708, Loss: 0.3237\n",
      "Epoch   2 Batch   30/57 - Train Accuracy: 0.7685, Validation Accuracy: 0.7714, Loss: 0.3055\n",
      "Epoch   2 Batch   31/57 - Train Accuracy: 0.7813, Validation Accuracy: 0.7810, Loss: 0.3052\n",
      "Epoch   2 Batch   32/57 - Train Accuracy: 0.7817, Validation Accuracy: 0.7776, Loss: 0.2988\n",
      "Epoch   2 Batch   33/57 - Train Accuracy: 0.7637, Validation Accuracy: 0.7734, Loss: 0.3116\n",
      "Epoch   2 Batch   34/57 - Train Accuracy: 0.7860, Validation Accuracy: 0.7814, Loss: 0.2917\n",
      "Epoch   2 Batch   35/57 - Train Accuracy: 0.7831, Validation Accuracy: 0.7886, Loss: 0.3034\n",
      "Epoch   2 Batch   36/57 - Train Accuracy: 0.7753, Validation Accuracy: 0.7883, Loss: 0.3048\n",
      "Epoch   2 Batch   37/57 - Train Accuracy: 0.7914, Validation Accuracy: 0.7878, Loss: 0.2800\n",
      "Epoch   2 Batch   38/57 - Train Accuracy: 0.8126, Validation Accuracy: 0.7905, Loss: 0.2547\n",
      "Epoch   2 Batch   39/57 - Train Accuracy: 0.7986, Validation Accuracy: 0.7950, Loss: 0.2794\n",
      "Epoch   2 Batch   40/57 - Train Accuracy: 0.7927, Validation Accuracy: 0.7945, Loss: 0.2884\n",
      "Epoch   2 Batch   41/57 - Train Accuracy: 0.7846, Validation Accuracy: 0.7942, Loss: 0.2804\n",
      "Epoch   2 Batch   42/57 - Train Accuracy: 0.7986, Validation Accuracy: 0.7973, Loss: 0.2778\n",
      "Epoch   2 Batch   43/57 - Train Accuracy: 0.8001, Validation Accuracy: 0.7998, Loss: 0.2619\n",
      "Epoch   2 Batch   44/57 - Train Accuracy: 0.8003, Validation Accuracy: 0.8049, Loss: 0.2714\n",
      "Epoch   2 Batch   45/57 - Train Accuracy: 0.8125, Validation Accuracy: 0.8040, Loss: 0.2521\n",
      "Epoch   2 Batch   46/57 - Train Accuracy: 0.8176, Validation Accuracy: 0.8019, Loss: 0.2522\n",
      "Epoch   2 Batch   47/57 - Train Accuracy: 0.8284, Validation Accuracy: 0.8063, Loss: 0.2305\n",
      "Epoch   2 Batch   48/57 - Train Accuracy: 0.8008, Validation Accuracy: 0.8118, Loss: 0.2579\n",
      "Epoch   2 Batch   49/57 - Train Accuracy: 0.8176, Validation Accuracy: 0.8145, Loss: 0.2513\n",
      "Epoch   2 Batch   50/57 - Train Accuracy: 0.8290, Validation Accuracy: 0.8154, Loss: 0.2309\n",
      "Epoch   2 Batch   51/57 - Train Accuracy: 0.8105, Validation Accuracy: 0.8146, Loss: 0.2480\n",
      "Epoch   2 Batch   52/57 - Train Accuracy: 0.8325, Validation Accuracy: 0.8192, Loss: 0.2296\n",
      "Epoch   2 Batch   53/57 - Train Accuracy: 0.8142, Validation Accuracy: 0.8223, Loss: 0.2359\n",
      "Epoch   2 Batch   54/57 - Train Accuracy: 0.8149, Validation Accuracy: 0.8273, Loss: 0.2435\n",
      "Epoch   2 Batch   55/57 - Train Accuracy: 0.8203, Validation Accuracy: 0.8278, Loss: 0.2350\n",
      "Epoch   3 Batch    1/57 - Train Accuracy: 0.8343, Validation Accuracy: 0.8312, Loss: 0.2352\n",
      "Epoch   3 Batch    2/57 - Train Accuracy: 0.8380, Validation Accuracy: 0.8335, Loss: 0.2165\n",
      "Epoch   3 Batch    3/57 - Train Accuracy: 0.8420, Validation Accuracy: 0.8312, Loss: 0.2160\n",
      "Epoch   3 Batch    4/57 - Train Accuracy: 0.8435, Validation Accuracy: 0.8339, Loss: 0.2116\n",
      "Epoch   3 Batch    5/57 - Train Accuracy: 0.8337, Validation Accuracy: 0.8385, Loss: 0.2214\n",
      "Epoch   3 Batch    6/57 - Train Accuracy: 0.8411, Validation Accuracy: 0.8428, Loss: 0.2171\n",
      "Epoch   3 Batch    7/57 - Train Accuracy: 0.8330, Validation Accuracy: 0.8450, Loss: 0.2174\n",
      "Epoch   3 Batch    8/57 - Train Accuracy: 0.8515, Validation Accuracy: 0.8464, Loss: 0.2036\n",
      "Epoch   3 Batch    9/57 - Train Accuracy: 0.8507, Validation Accuracy: 0.8458, Loss: 0.1978\n",
      "Epoch   3 Batch   10/57 - Train Accuracy: 0.8504, Validation Accuracy: 0.8470, Loss: 0.2039\n",
      "Epoch   3 Batch   11/57 - Train Accuracy: 0.8472, Validation Accuracy: 0.8505, Loss: 0.2054\n",
      "Epoch   3 Batch   12/57 - Train Accuracy: 0.8524, Validation Accuracy: 0.8547, Loss: 0.1947\n",
      "Epoch   3 Batch   13/57 - Train Accuracy: 0.8528, Validation Accuracy: 0.8543, Loss: 0.1966\n",
      "Epoch   3 Batch   14/57 - Train Accuracy: 0.8523, Validation Accuracy: 0.8572, Loss: 0.1961\n",
      "Epoch   3 Batch   15/57 - Train Accuracy: 0.8611, Validation Accuracy: 0.8571, Loss: 0.1939\n"
     ]
    },
    {
     "name": "stdout",
     "output_type": "stream",
     "text": [
      "Epoch   3 Batch   16/57 - Train Accuracy: 0.8509, Validation Accuracy: 0.8536, Loss: 0.1892\n",
      "Epoch   3 Batch   17/57 - Train Accuracy: 0.8485, Validation Accuracy: 0.8567, Loss: 0.1927\n",
      "Epoch   3 Batch   18/57 - Train Accuracy: 0.8617, Validation Accuracy: 0.8620, Loss: 0.1861\n",
      "Epoch   3 Batch   19/57 - Train Accuracy: 0.8653, Validation Accuracy: 0.8637, Loss: 0.1823\n",
      "Epoch   3 Batch   20/57 - Train Accuracy: 0.8628, Validation Accuracy: 0.8660, Loss: 0.1836\n",
      "Epoch   3 Batch   21/57 - Train Accuracy: 0.8612, Validation Accuracy: 0.8659, Loss: 0.1825\n",
      "Epoch   3 Batch   22/57 - Train Accuracy: 0.8597, Validation Accuracy: 0.8659, Loss: 0.1833\n",
      "Epoch   3 Batch   23/57 - Train Accuracy: 0.8705, Validation Accuracy: 0.8695, Loss: 0.1707\n",
      "Epoch   3 Batch   24/57 - Train Accuracy: 0.8652, Validation Accuracy: 0.8713, Loss: 0.1776\n",
      "Epoch   3 Batch   25/57 - Train Accuracy: 0.8646, Validation Accuracy: 0.8688, Loss: 0.1713\n",
      "Epoch   3 Batch   26/57 - Train Accuracy: 0.8598, Validation Accuracy: 0.8698, Loss: 0.1719\n",
      "Epoch   3 Batch   27/57 - Train Accuracy: 0.8696, Validation Accuracy: 0.8743, Loss: 0.1725\n",
      "Epoch   3 Batch   28/57 - Train Accuracy: 0.8623, Validation Accuracy: 0.8743, Loss: 0.1688\n",
      "Epoch   3 Batch   29/57 - Train Accuracy: 0.8711, Validation Accuracy: 0.8768, Loss: 0.1678\n",
      "Epoch   3 Batch   30/57 - Train Accuracy: 0.8754, Validation Accuracy: 0.8742, Loss: 0.1588\n",
      "Epoch   3 Batch   31/57 - Train Accuracy: 0.8739, Validation Accuracy: 0.8757, Loss: 0.1592\n",
      "Epoch   3 Batch   32/57 - Train Accuracy: 0.8744, Validation Accuracy: 0.8791, Loss: 0.1578\n",
      "Epoch   3 Batch   33/57 - Train Accuracy: 0.8731, Validation Accuracy: 0.8788, Loss: 0.1648\n",
      "Epoch   3 Batch   34/57 - Train Accuracy: 0.8776, Validation Accuracy: 0.8784, Loss: 0.1542\n",
      "Epoch   3 Batch   35/57 - Train Accuracy: 0.8779, Validation Accuracy: 0.8831, Loss: 0.1608\n",
      "Epoch   3 Batch   36/57 - Train Accuracy: 0.8741, Validation Accuracy: 0.8838, Loss: 0.1610\n",
      "Epoch   3 Batch   37/57 - Train Accuracy: 0.8849, Validation Accuracy: 0.8809, Loss: 0.1465\n",
      "Epoch   3 Batch   38/57 - Train Accuracy: 0.8990, Validation Accuracy: 0.8825, Loss: 0.1360\n",
      "Epoch   3 Batch   39/57 - Train Accuracy: 0.8879, Validation Accuracy: 0.8811, Loss: 0.1464\n",
      "Epoch   3 Batch   40/57 - Train Accuracy: 0.8727, Validation Accuracy: 0.8793, Loss: 0.1540\n",
      "Epoch   3 Batch   41/57 - Train Accuracy: 0.8767, Validation Accuracy: 0.8840, Loss: 0.1489\n",
      "Epoch   3 Batch   42/57 - Train Accuracy: 0.8846, Validation Accuracy: 0.8847, Loss: 0.1478\n",
      "Epoch   3 Batch   43/57 - Train Accuracy: 0.8858, Validation Accuracy: 0.8868, Loss: 0.1396\n",
      "Epoch   3 Batch   44/57 - Train Accuracy: 0.8834, Validation Accuracy: 0.8877, Loss: 0.1443\n",
      "Epoch   3 Batch   45/57 - Train Accuracy: 0.8882, Validation Accuracy: 0.8871, Loss: 0.1356\n",
      "Epoch   3 Batch   46/57 - Train Accuracy: 0.8941, Validation Accuracy: 0.8913, Loss: 0.1350\n",
      "Epoch   3 Batch   47/57 - Train Accuracy: 0.8938, Validation Accuracy: 0.8931, Loss: 0.1255\n",
      "Epoch   3 Batch   48/57 - Train Accuracy: 0.8818, Validation Accuracy: 0.8959, Loss: 0.1385\n",
      "Epoch   3 Batch   49/57 - Train Accuracy: 0.8969, Validation Accuracy: 0.8970, Loss: 0.1348\n",
      "Epoch   3 Batch   50/57 - Train Accuracy: 0.9011, Validation Accuracy: 0.8952, Loss: 0.1251\n",
      "Epoch   3 Batch   51/57 - Train Accuracy: 0.8865, Validation Accuracy: 0.8972, Loss: 0.1330\n",
      "Epoch   3 Batch   52/57 - Train Accuracy: 0.9028, Validation Accuracy: 0.8959, Loss: 0.1223\n",
      "Epoch   3 Batch   53/57 - Train Accuracy: 0.8879, Validation Accuracy: 0.8960, Loss: 0.1265\n",
      "Epoch   3 Batch   54/57 - Train Accuracy: 0.8924, Validation Accuracy: 0.8988, Loss: 0.1304\n",
      "Epoch   3 Batch   55/57 - Train Accuracy: 0.8927, Validation Accuracy: 0.9002, Loss: 0.1265\n",
      "Epoch   4 Batch    1/57 - Train Accuracy: 0.8953, Validation Accuracy: 0.8996, Loss: 0.1275\n",
      "Epoch   4 Batch    2/57 - Train Accuracy: 0.9019, Validation Accuracy: 0.9004, Loss: 0.1167\n",
      "Epoch   4 Batch    3/57 - Train Accuracy: 0.9005, Validation Accuracy: 0.8995, Loss: 0.1175\n",
      "Epoch   4 Batch    4/57 - Train Accuracy: 0.9006, Validation Accuracy: 0.9007, Loss: 0.1145\n",
      "Epoch   4 Batch    5/57 - Train Accuracy: 0.8989, Validation Accuracy: 0.9076, Loss: 0.1194\n",
      "Epoch   4 Batch    6/57 - Train Accuracy: 0.9007, Validation Accuracy: 0.9071, Loss: 0.1180\n",
      "Epoch   4 Batch    7/57 - Train Accuracy: 0.8968, Validation Accuracy: 0.9092, Loss: 0.1186\n",
      "Epoch   4 Batch    8/57 - Train Accuracy: 0.9084, Validation Accuracy: 0.9070, Loss: 0.1109\n",
      "Epoch   4 Batch    9/57 - Train Accuracy: 0.9100, Validation Accuracy: 0.9088, Loss: 0.1066\n",
      "Epoch   4 Batch   10/57 - Train Accuracy: 0.9079, Validation Accuracy: 0.9075, Loss: 0.1109\n",
      "Epoch   4 Batch   11/57 - Train Accuracy: 0.9039, Validation Accuracy: 0.9058, Loss: 0.1116\n",
      "Epoch   4 Batch   12/57 - Train Accuracy: 0.9041, Validation Accuracy: 0.9071, Loss: 0.1083\n",
      "Epoch   4 Batch   13/57 - Train Accuracy: 0.9037, Validation Accuracy: 0.9089, Loss: 0.1100\n",
      "Epoch   4 Batch   14/57 - Train Accuracy: 0.9040, Validation Accuracy: 0.9085, Loss: 0.1089\n",
      "Epoch   4 Batch   15/57 - Train Accuracy: 0.9100, Validation Accuracy: 0.9075, Loss: 0.1054\n",
      "Epoch   4 Batch   16/57 - Train Accuracy: 0.9038, Validation Accuracy: 0.9053, Loss: 0.1055\n",
      "Epoch   4 Batch   17/57 - Train Accuracy: 0.8980, Validation Accuracy: 0.9097, Loss: 0.1081\n",
      "Epoch   4 Batch   18/57 - Train Accuracy: 0.9112, Validation Accuracy: 0.9094, Loss: 0.1018\n",
      "Epoch   4 Batch   19/57 - Train Accuracy: 0.9091, Validation Accuracy: 0.9127, Loss: 0.1000\n",
      "Epoch   4 Batch   20/57 - Train Accuracy: 0.9088, Validation Accuracy: 0.9127, Loss: 0.1011\n",
      "Epoch   4 Batch   21/57 - Train Accuracy: 0.9071, Validation Accuracy: 0.9132, Loss: 0.0995\n",
      "Epoch   4 Batch   22/57 - Train Accuracy: 0.9059, Validation Accuracy: 0.9087, Loss: 0.1011\n",
      "Epoch   4 Batch   23/57 - Train Accuracy: 0.9106, Validation Accuracy: 0.9106, Loss: 0.0962\n",
      "Epoch   4 Batch   24/57 - Train Accuracy: 0.9118, Validation Accuracy: 0.9145, Loss: 0.0956\n",
      "Epoch   4 Batch   25/57 - Train Accuracy: 0.9126, Validation Accuracy: 0.9122, Loss: 0.0932\n",
      "Epoch   4 Batch   26/57 - Train Accuracy: 0.8973, Validation Accuracy: 0.9128, Loss: 0.0963\n",
      "Epoch   4 Batch   27/57 - Train Accuracy: 0.9093, Validation Accuracy: 0.9163, Loss: 0.0944\n",
      "Epoch   4 Batch   28/57 - Train Accuracy: 0.9100, Validation Accuracy: 0.9137, Loss: 0.0923\n",
      "Epoch   4 Batch   29/57 - Train Accuracy: 0.9068, Validation Accuracy: 0.9154, Loss: 0.0930\n",
      "Epoch   4 Batch   30/57 - Train Accuracy: 0.9178, Validation Accuracy: 0.9161, Loss: 0.0886\n",
      "Epoch   4 Batch   31/57 - Train Accuracy: 0.9157, Validation Accuracy: 0.9164, Loss: 0.0883\n",
      "Epoch   4 Batch   32/57 - Train Accuracy: 0.9137, Validation Accuracy: 0.9149, Loss: 0.0870\n",
      "Epoch   4 Batch   33/57 - Train Accuracy: 0.9150, Validation Accuracy: 0.9179, Loss: 0.0914\n",
      "Epoch   4 Batch   34/57 - Train Accuracy: 0.9164, Validation Accuracy: 0.9183, Loss: 0.0860\n",
      "Epoch   4 Batch   35/57 - Train Accuracy: 0.9107, Validation Accuracy: 0.9182, Loss: 0.0892\n",
      "Epoch   4 Batch   36/57 - Train Accuracy: 0.9092, Validation Accuracy: 0.9147, Loss: 0.0921\n",
      "Epoch   4 Batch   37/57 - Train Accuracy: 0.9160, Validation Accuracy: 0.9150, Loss: 0.0825\n",
      "Epoch   4 Batch   38/57 - Train Accuracy: 0.9274, Validation Accuracy: 0.9167, Loss: 0.0757\n",
      "Epoch   4 Batch   39/57 - Train Accuracy: 0.9217, Validation Accuracy: 0.9195, Loss: 0.0829\n",
      "Epoch   4 Batch   40/57 - Train Accuracy: 0.9129, Validation Accuracy: 0.9194, Loss: 0.0865\n",
      "Epoch   4 Batch   41/57 - Train Accuracy: 0.9124, Validation Accuracy: 0.9208, Loss: 0.0834\n",
      "Epoch   4 Batch   42/57 - Train Accuracy: 0.9156, Validation Accuracy: 0.9224, Loss: 0.0844\n",
      "Epoch   4 Batch   43/57 - Train Accuracy: 0.9198, Validation Accuracy: 0.9250, Loss: 0.0783\n",
      "Epoch   4 Batch   44/57 - Train Accuracy: 0.9169, Validation Accuracy: 0.9255, Loss: 0.0831\n",
      "Epoch   4 Batch   45/57 - Train Accuracy: 0.9189, Validation Accuracy: 0.9246, Loss: 0.0779\n",
      "Epoch   4 Batch   46/57 - Train Accuracy: 0.9243, Validation Accuracy: 0.9244, Loss: 0.0768\n",
      "Epoch   4 Batch   47/57 - Train Accuracy: 0.9249, Validation Accuracy: 0.9238, Loss: 0.0733\n",
      "Epoch   4 Batch   48/57 - Train Accuracy: 0.9175, Validation Accuracy: 0.9263, Loss: 0.0782\n",
      "Epoch   4 Batch   49/57 - Train Accuracy: 0.9289, Validation Accuracy: 0.9266, Loss: 0.0759\n",
      "Epoch   4 Batch   50/57 - Train Accuracy: 0.9276, Validation Accuracy: 0.9274, Loss: 0.0730\n"
     ]
    },
    {
     "name": "stdout",
     "output_type": "stream",
     "text": [
      "Epoch   4 Batch   51/57 - Train Accuracy: 0.9187, Validation Accuracy: 0.9298, Loss: 0.0758\n",
      "Epoch   4 Batch   52/57 - Train Accuracy: 0.9311, Validation Accuracy: 0.9281, Loss: 0.0704\n",
      "Epoch   4 Batch   53/57 - Train Accuracy: 0.9203, Validation Accuracy: 0.9303, Loss: 0.0735\n",
      "Epoch   4 Batch   54/57 - Train Accuracy: 0.9235, Validation Accuracy: 0.9300, Loss: 0.0752\n",
      "Epoch   4 Batch   55/57 - Train Accuracy: 0.9204, Validation Accuracy: 0.9325, Loss: 0.0733\n",
      "Model Trained and Saved\n"
     ]
    }
   ],
   "source": [
    "\"\"\"\n",
    "DON'T MODIFY ANYTHING IN THIS CELL\n",
    "\"\"\"\n",
    "def get_accuracy(target, logits):\n",
    "    \"\"\"\n",
    "    Calculate accuracy\n",
    "    \"\"\"\n",
    "    max_seq = max(target.shape[1], logits.shape[1])\n",
    "    if max_seq - target.shape[1]:\n",
    "        target = np.pad(\n",
    "            target,\n",
    "            [(0,0),(0,max_seq - target.shape[1])],\n",
    "            'constant')\n",
    "    if max_seq - logits.shape[1]:\n",
    "        logits = np.pad(\n",
    "            logits,\n",
    "            [(0,0),(0,max_seq - logits.shape[1])],\n",
    "            'constant')\n",
    "\n",
    "    return np.mean(np.equal(target, logits))\n",
    "\n",
    "# Split data to training and validation sets\n",
    "train_source = source_int_text[batch_size:]\n",
    "train_target = target_int_text[batch_size:]\n",
    "valid_source = source_int_text[:batch_size]\n",
    "valid_target = target_int_text[:batch_size]\n",
    "(valid_sources_batch, valid_targets_batch, valid_sources_lengths, valid_targets_lengths ) = next(get_batches(valid_source,\n",
    "                                                                                                             valid_target,\n",
    "                                                                                                             batch_size,\n",
    "                                                                                                             source_vocab_to_int['<PAD>'],\n",
    "                                                                                                             target_vocab_to_int['<PAD>']))                                                                                                  \n",
    "with tf.Session(graph=train_graph) as sess:\n",
    "    sess.run(tf.global_variables_initializer())\n",
    "\n",
    "    for epoch_i in range(epochs):\n",
    "        for batch_i, (source_batch, target_batch, sources_lengths, targets_lengths) in enumerate(\n",
    "                get_batches(train_source, train_target, batch_size,\n",
    "                            source_vocab_to_int['<PAD>'],\n",
    "                            target_vocab_to_int['<PAD>'])):\n",
    "\n",
    "            _, loss = sess.run(\n",
    "                [train_op, cost],\n",
    "                {input_data: source_batch,\n",
    "                 targets: target_batch,\n",
    "                 lr: learning_rate,\n",
    "                 target_sequence_length: targets_lengths,\n",
    "                 source_sequence_length: sources_lengths,\n",
    "                 keep_prob: keep_probability})\n",
    "\n",
    "\n",
    "            if batch_i % display_step == 0 and batch_i > 0:\n",
    "\n",
    "\n",
    "                batch_train_logits = sess.run(\n",
    "                    inference_logits,\n",
    "                    {input_data: source_batch,\n",
    "                     source_sequence_length: sources_lengths,\n",
    "                     target_sequence_length: targets_lengths,\n",
    "                     keep_prob: 1.0})\n",
    "\n",
    "\n",
    "                batch_valid_logits = sess.run(\n",
    "                    inference_logits,\n",
    "                    {input_data: valid_sources_batch,\n",
    "                     source_sequence_length: valid_sources_lengths,\n",
    "                     target_sequence_length: valid_targets_lengths,\n",
    "                     keep_prob: 1.0})\n",
    "\n",
    "                train_acc = get_accuracy(target_batch, batch_train_logits)\n",
    "\n",
    "                valid_acc = get_accuracy(valid_targets_batch, batch_valid_logits)\n",
    "\n",
    "                print('Epoch {:>3} Batch {:>4}/{} - Train Accuracy: {:>6.4f}, Validation Accuracy: {:>6.4f}, Loss: {:>6.4f}'\n",
    "                      .format(epoch_i, batch_i, len(source_int_text) // batch_size, train_acc, valid_acc, loss))\n",
    "\n",
    "    # Save Model\n",
    "    saver = tf.train.Saver()\n",
    "    saver.save(sess, save_path)\n",
    "    print('Model Trained and Saved')"
   ]
  },
  {
   "cell_type": "markdown",
   "metadata": {},
   "source": [
    "### Save Parameters\n",
    "Save the `batch_size` and `save_path` parameters for inference."
   ]
  },
  {
   "cell_type": "code",
   "execution_count": 14,
   "metadata": {
    "collapsed": true
   },
   "outputs": [],
   "source": [
    "\"\"\"\n",
    "DON'T MODIFY ANYTHING IN THIS CELL\n",
    "\"\"\"\n",
    "# Save parameters for checkpoint\n",
    "helper.save_params(save_path)"
   ]
  },
  {
   "cell_type": "markdown",
   "metadata": {},
   "source": [
    "# Checkpoint"
   ]
  },
  {
   "cell_type": "code",
   "execution_count": 15,
   "metadata": {
    "collapsed": true
   },
   "outputs": [],
   "source": [
    "\"\"\"\n",
    "DON'T MODIFY ANYTHING IN THIS CELL\n",
    "\"\"\"\n",
    "import tensorflow as tf\n",
    "import numpy as np\n",
    "import helper\n",
    "import problem_unittests as tests\n",
    "\n",
    "_, (source_vocab_to_int, target_vocab_to_int), (source_int_to_vocab, target_int_to_vocab) = helper.load_preprocess()\n",
    "load_path = helper.load_params()"
   ]
  },
  {
   "cell_type": "markdown",
   "metadata": {},
   "source": [
    "## Sentence to Sequence\n",
    "To feed a sentence into the model for translation, you first need to preprocess it.  Implement the function `sentence_to_seq()` to preprocess new sentences.\n",
    "\n",
    "- Convert the sentence to lowercase\n",
    "- Convert words into ids using `vocab_to_int`\n",
    " - Convert words not in the vocabulary, to the `<UNK>` word id."
   ]
  },
  {
   "cell_type": "code",
   "execution_count": 16,
   "metadata": {},
   "outputs": [
    {
     "name": "stdout",
     "output_type": "stream",
     "text": [
      "Tests Passed\n"
     ]
    }
   ],
   "source": [
    "def sentence_to_seq(sentence, vocab_to_int):\n",
    "    \"\"\"\n",
    "    Convert a sentence to a sequence of ids\n",
    "    :param sentence: String\n",
    "    :param vocab_to_int: Dictionary to go from the words to an id\n",
    "    :return: List of word ids\n",
    "    \"\"\"\n",
    "    lower_sentece = sentence.lower()\n",
    "    word_ids = [vocab_to_int.get(word, vocab_to_int['<UNK>']) for word in lower_sentece.split(' ')]\n",
    "    return word_ids\n",
    "\n",
    "\n",
    "\"\"\"\n",
    "DON'T MODIFY ANYTHING IN THIS CELL THAT IS BELOW THIS LINE\n",
    "\"\"\"\n",
    "tests.test_sentence_to_seq(sentence_to_seq)"
   ]
  },
  {
   "cell_type": "markdown",
   "metadata": {},
   "source": [
    "## Translate\n",
    "This will translate `translate_sentence` from English to French."
   ]
  },
  {
   "cell_type": "code",
   "execution_count": 17,
   "metadata": {},
   "outputs": [
    {
     "name": "stdout",
     "output_type": "stream",
     "text": [
      "INFO:tensorflow:Restoring parameters from checkpoints/dev\n",
      "Input\n",
      "  Word Ids:      [138, 100, 147, 58, 83, 156, 111]\n",
      "  English Words: ['he', 'saw', 'a', 'old', 'yellow', 'truck', '.']\n",
      "\n",
      "Prediction\n",
      "  Word Ids:      [165, 238, 257, 26, 345, 108, 63, 216, 1]\n",
      "  French Words: il a vu un vieux camion jaune . <EOS>\n"
     ]
    }
   ],
   "source": [
    "translate_sentence = 'he saw a old yellow truck .'\n",
    "\n",
    "\n",
    "\"\"\"\n",
    "DON'T MODIFY ANYTHING IN THIS CELL\n",
    "\"\"\"\n",
    "translate_sentence = sentence_to_seq(translate_sentence, source_vocab_to_int)\n",
    "\n",
    "loaded_graph = tf.Graph()\n",
    "with tf.Session(graph=loaded_graph) as sess:\n",
    "    # Load saved model\n",
    "    loader = tf.train.import_meta_graph(load_path + '.meta')\n",
    "    loader.restore(sess, load_path)\n",
    "\n",
    "    input_data = loaded_graph.get_tensor_by_name('input:0')\n",
    "    logits = loaded_graph.get_tensor_by_name('predictions:0')\n",
    "    target_sequence_length = loaded_graph.get_tensor_by_name('target_sequence_length:0')\n",
    "    source_sequence_length = loaded_graph.get_tensor_by_name('source_sequence_length:0')\n",
    "    keep_prob = loaded_graph.get_tensor_by_name('keep_prob:0')\n",
    "\n",
    "    translate_logits = sess.run(logits, {input_data: [translate_sentence]*batch_size,\n",
    "                                         target_sequence_length: [len(translate_sentence)*2]*batch_size,\n",
    "                                         source_sequence_length: [len(translate_sentence)]*batch_size,\n",
    "                                         keep_prob: 1.0})[0]\n",
    "\n",
    "print('Input')\n",
    "print('  Word Ids:      {}'.format([i for i in translate_sentence]))\n",
    "print('  English Words: {}'.format([source_int_to_vocab[i] for i in translate_sentence]))\n",
    "\n",
    "print('\\nPrediction')\n",
    "print('  Word Ids:      {}'.format([i for i in translate_logits]))\n",
    "print('  French Words: {}'.format(\" \".join([target_int_to_vocab[i] for i in translate_logits])))\n"
   ]
  },
  {
   "cell_type": "markdown",
   "metadata": {},
   "source": [
    "## Imperfect Translation\n",
    "You might notice that some sentences translate better than others.  Since the dataset you're using only has a vocabulary of 227 English words of the thousands that you use, you're only going to see good results using these words.  For this project, you don't need a perfect translation. However, if you want to create a better translation model, you'll need better data.\n",
    "\n",
    "You can train on the [WMT10 French-English corpus](http://www.statmt.org/wmt10/training-giga-fren.tar).  This dataset has more vocabulary and richer in topics discussed.  However, this will take you days to train, so make sure you've a GPU and the neural network is performing well on dataset we provided.  Just make sure you play with the WMT10 corpus after you've submitted this project.\n",
    "## Submitting This Project\n",
    "When submitting this project, make sure to run all the cells before saving the notebook. Save the notebook file as \"dlnd_language_translation.ipynb\" and save it as a HTML file under \"File\" -> \"Download as\". Include the \"helper.py\" and \"problem_unittests.py\" files in your submission."
   ]
  }
 ],
 "metadata": {
  "anaconda-cloud": {},
  "kernelspec": {
   "display_name": "Python [default]",
   "language": "python",
   "name": "python3"
  },
  "language_info": {
   "codemirror_mode": {
    "name": "ipython",
    "version": 3
   },
   "file_extension": ".py",
   "mimetype": "text/x-python",
   "name": "python",
   "nbconvert_exporter": "python",
   "pygments_lexer": "ipython3",
   "version": "3.6.1"
  }
 },
 "nbformat": 4,
 "nbformat_minor": 1
}
