{
 "cells": [
  {
   "cell_type": "markdown",
   "metadata": {
    "collapsed": true
   },
   "source": [
    "# Language Translation\n",
    "In this project, you’re going to take a peek into the realm of neural network machine translation.  You’ll be training a sequence to sequence model on a dataset of English and French sentences that can translate new sentences from English to French.\n",
    "## Get the Data\n",
    "Since translating the whole language of English to French will take lots of time to train, we have provided you with a small portion of the English corpus."
   ]
  },
  {
   "cell_type": "code",
   "execution_count": 1,
   "metadata": {
    "collapsed": true
   },
   "outputs": [],
   "source": [
    "\"\"\"\n",
    "DON'T MODIFY ANYTHING IN THIS CELL\n",
    "\"\"\"\n",
    "import helper\n",
    "import problem_unittests as tests\n",
    "\n",
    "source_path = 'data/small_vocab_en'\n",
    "target_path = 'data/small_vocab_fr'\n",
    "source_text = helper.load_data(source_path)\n",
    "target_text = helper.load_data(target_path)"
   ]
  },
  {
   "cell_type": "markdown",
   "metadata": {},
   "source": [
    "## Explore the Data\n",
    "Play around with view_sentence_range to view different parts of the data."
   ]
  },
  {
   "cell_type": "code",
   "execution_count": 2,
   "metadata": {},
   "outputs": [
    {
     "name": "stdout",
     "output_type": "stream",
     "text": [
      "Dataset Stats\n",
      "Roughly the number of unique words: 227\n",
      "Number of sentences: 137861\n",
      "Average number of words in a sentence: 13.225277634719028\n",
      "\n",
      "English sentences 0 to 10:\n",
      "new jersey is sometimes quiet during autumn , and it is snowy in april .\n",
      "the united states is usually chilly during july , and it is usually freezing in november .\n",
      "california is usually quiet during march , and it is usually hot in june .\n",
      "the united states is sometimes mild during june , and it is cold in september .\n",
      "your least liked fruit is the grape , but my least liked is the apple .\n",
      "his favorite fruit is the orange , but my favorite is the grape .\n",
      "paris is relaxing during december , but it is usually chilly in july .\n",
      "new jersey is busy during spring , and it is never hot in march .\n",
      "our least liked fruit is the lemon , but my least liked is the grape .\n",
      "the united states is sometimes busy during january , and it is sometimes warm in november .\n",
      "\n",
      "French sentences 0 to 10:\n",
      "new jersey est parfois calme pendant l' automne , et il est neigeux en avril .\n",
      "les états-unis est généralement froid en juillet , et il gèle habituellement en novembre .\n",
      "california est généralement calme en mars , et il est généralement chaud en juin .\n",
      "les états-unis est parfois légère en juin , et il fait froid en septembre .\n",
      "votre moins aimé fruit est le raisin , mais mon moins aimé est la pomme .\n",
      "son fruit préféré est l'orange , mais mon préféré est le raisin .\n",
      "paris est relaxant en décembre , mais il est généralement froid en juillet .\n",
      "new jersey est occupé au printemps , et il est jamais chaude en mars .\n",
      "notre fruit est moins aimé le citron , mais mon moins aimé est le raisin .\n",
      "les états-unis est parfois occupé en janvier , et il est parfois chaud en novembre .\n"
     ]
    }
   ],
   "source": [
    "view_sentence_range = (0, 10)\n",
    "\n",
    "\"\"\"\n",
    "DON'T MODIFY ANYTHING IN THIS CELL\n",
    "\"\"\"\n",
    "import numpy as np\n",
    "\n",
    "print('Dataset Stats')\n",
    "print('Roughly the number of unique words: {}'.format(len({word: None for word in source_text.split()})))\n",
    "\n",
    "sentences = source_text.split('\\n')\n",
    "word_counts = [len(sentence.split()) for sentence in sentences]\n",
    "print('Number of sentences: {}'.format(len(sentences)))\n",
    "print('Average number of words in a sentence: {}'.format(np.average(word_counts)))\n",
    "\n",
    "print()\n",
    "print('English sentences {} to {}:'.format(*view_sentence_range))\n",
    "print('\\n'.join(source_text.split('\\n')[view_sentence_range[0]:view_sentence_range[1]]))\n",
    "print()\n",
    "print('French sentences {} to {}:'.format(*view_sentence_range))\n",
    "print('\\n'.join(target_text.split('\\n')[view_sentence_range[0]:view_sentence_range[1]]))"
   ]
  },
  {
   "cell_type": "markdown",
   "metadata": {},
   "source": [
    "## Implement Preprocessing Function\n",
    "### Text to Word Ids\n",
    "As you did with other RNNs, you must turn the text into a number so the computer can understand it. In the function `text_to_ids()`, you'll turn `source_text` and `target_text` from words to ids.  However, you need to add the `<EOS>` word id at the end of `target_text`.  This will help the neural network predict when the sentence should end.\n",
    "\n",
    "You can get the `<EOS>` word id by doing:\n",
    "```python\n",
    "target_vocab_to_int['<EOS>']\n",
    "```\n",
    "You can get other word ids using `source_vocab_to_int` and `target_vocab_to_int`."
   ]
  },
  {
   "cell_type": "code",
   "execution_count": 3,
   "metadata": {},
   "outputs": [
    {
     "name": "stdout",
     "output_type": "stream",
     "text": [
      "Tests Passed\n"
     ]
    }
   ],
   "source": [
    "def text_to_ids(source_text, target_text, source_vocab_to_int, target_vocab_to_int):\n",
    "    \"\"\"\n",
    "    Convert source and target text to proper word ids\n",
    "    :param source_text: String that contains all the source text.\n",
    "    :param target_text: String that contains all the target text.\n",
    "    :param source_vocab_to_int: Dictionary to go from the source words to an id\n",
    "    :param target_vocab_to_int: Dictionary to go from the target words to an id\n",
    "    :return: A tuple of lists (source_id_text, target_id_text)\n",
    "    \"\"\"\n",
    "    source_id_text = []    \n",
    "    target_id_text = []\n",
    "    \n",
    "    for sentence in source_text.split('\\n'):\n",
    "        sentence_text = []\n",
    "        for word in sentence.split(' '):\n",
    "            if word in source_vocab_to_int:\n",
    "                sentence_text.append(source_vocab_to_int[word])\n",
    "        source_id_text.append(sentence_text)\n",
    "    \n",
    "    for sentence in target_text.split('\\n'):\n",
    "        sentence_text = []\n",
    "        for word in sentence.split(' '):\n",
    "            if word in target_vocab_to_int:\n",
    "                sentence_text.append(target_vocab_to_int[word])\n",
    "        sentence_text.append(target_vocab_to_int['<EOS>'])\n",
    "        target_id_text.append(sentence_text)\n",
    "        \n",
    "    return source_id_text, target_id_text\n",
    "\n",
    "\"\"\"\n",
    "DON'T MODIFY ANYTHING IN THIS CELL THAT IS BELOW THIS LINE\n",
    "\"\"\"\n",
    "tests.test_text_to_ids(text_to_ids)"
   ]
  },
  {
   "cell_type": "markdown",
   "metadata": {},
   "source": [
    "### Preprocess all the data and save it\n",
    "Running the code cell below will preprocess all the data and save it to file."
   ]
  },
  {
   "cell_type": "code",
   "execution_count": 4,
   "metadata": {
    "collapsed": true
   },
   "outputs": [],
   "source": [
    "\"\"\"\n",
    "DON'T MODIFY ANYTHING IN THIS CELL\n",
    "\"\"\"\n",
    "helper.preprocess_and_save_data(source_path, target_path, text_to_ids)"
   ]
  },
  {
   "cell_type": "markdown",
   "metadata": {},
   "source": [
    "# Check Point\n",
    "This is your first checkpoint. If you ever decide to come back to this notebook or have to restart the notebook, you can start from here. The preprocessed data has been saved to disk."
   ]
  },
  {
   "cell_type": "code",
   "execution_count": 1,
   "metadata": {
    "collapsed": true
   },
   "outputs": [],
   "source": [
    "\"\"\"\n",
    "DON'T MODIFY ANYTHING IN THIS CELL\n",
    "\"\"\"\n",
    "import numpy as np\n",
    "import helper\n",
    "import problem_unittests as tests\n",
    "\n",
    "(source_int_text, target_int_text), (source_vocab_to_int, target_vocab_to_int), _ = helper.load_preprocess()"
   ]
  },
  {
   "cell_type": "markdown",
   "metadata": {},
   "source": [
    "### Check the Version of TensorFlow and Access to GPU\n",
    "This will check to make sure you have the correct version of TensorFlow and access to a GPU"
   ]
  },
  {
   "cell_type": "code",
   "execution_count": 2,
   "metadata": {},
   "outputs": [
    {
     "name": "stdout",
     "output_type": "stream",
     "text": [
      "TensorFlow Version: 1.1.0\n",
      "Default GPU Device: /gpu:0\n"
     ]
    }
   ],
   "source": [
    "\"\"\"\n",
    "DON'T MODIFY ANYTHING IN THIS CELL\n",
    "\"\"\"\n",
    "from distutils.version import LooseVersion\n",
    "import warnings\n",
    "import tensorflow as tf\n",
    "from tensorflow.python.layers.core import Dense\n",
    "\n",
    "# Check TensorFlow Version\n",
    "assert LooseVersion(tf.__version__) >= LooseVersion('1.1'), 'Please use TensorFlow version 1.1 or newer'\n",
    "print('TensorFlow Version: {}'.format(tf.__version__))\n",
    "\n",
    "# Check for a GPU\n",
    "if not tf.test.gpu_device_name():\n",
    "    warnings.warn('No GPU found. Please use a GPU to train your neural network.')\n",
    "else:\n",
    "    print('Default GPU Device: {}'.format(tf.test.gpu_device_name()))"
   ]
  },
  {
   "cell_type": "markdown",
   "metadata": {},
   "source": [
    "## Build the Neural Network\n",
    "You'll build the components necessary to build a Sequence-to-Sequence model by implementing the following functions below:\n",
    "- `model_inputs`\n",
    "- `process_decoder_input`\n",
    "- `encoding_layer`\n",
    "- `decoding_layer_train`\n",
    "- `decoding_layer_infer`\n",
    "- `decoding_layer`\n",
    "- `seq2seq_model`\n",
    "\n",
    "### Input\n",
    "Implement the `model_inputs()` function to create TF Placeholders for the Neural Network. It should create the following placeholders:\n",
    "\n",
    "- Input text placeholder named \"input\" using the TF Placeholder name parameter with rank 2.\n",
    "- Targets placeholder with rank 2.\n",
    "- Learning rate placeholder with rank 0.\n",
    "- Keep probability placeholder named \"keep_prob\" using the TF Placeholder name parameter with rank 0.\n",
    "- Target sequence length placeholder named \"target_sequence_length\" with rank 1\n",
    "- Max target sequence length tensor named \"max_target_len\" getting its value from applying tf.reduce_max on the target_sequence_length placeholder. Rank 0.\n",
    "- Source sequence length placeholder named \"source_sequence_length\" with rank 1\n",
    "\n",
    "Return the placeholders in the following the tuple (input, targets, learning rate, keep probability, target sequence length, max target sequence length, source sequence length)"
   ]
  },
  {
   "cell_type": "code",
   "execution_count": 3,
   "metadata": {},
   "outputs": [
    {
     "name": "stdout",
     "output_type": "stream",
     "text": [
      "Tests Passed\n"
     ]
    }
   ],
   "source": [
    "def model_inputs():\n",
    "    \"\"\"\n",
    "    Create TF Placeholders for input, targets, learning rate, and lengths of source and target sequences.\n",
    "    :return: Tuple (input, targets, learning rate, keep probability, target sequence length,\n",
    "    max target sequence length, source sequence length)\n",
    "    \"\"\"\n",
    "    input_data = tf.placeholder(tf.int32, [None, None], name='input')\n",
    "    targets = tf.placeholder(tf.int32, [None, None], name='targets')\n",
    "    \n",
    "    lr = tf.placeholder(tf.float32, name='learning_rate')\n",
    "    keep_prob = tf.placeholder(tf.float32, name=\"keep_prob\")\n",
    "    \n",
    "    target_sequence_length = tf.placeholder(tf.int32, [None], name='target_sequence_length')\n",
    "    max_target_sequence_length = tf.reduce_max(target_sequence_length, name='max_target_len')\n",
    "    source_sequence_length = tf.placeholder(tf.int32, [None], name='source_sequence_length')\n",
    "    \n",
    "    return input_data, targets, lr, keep_prob, target_sequence_length, max_target_sequence_length, source_sequence_length\n",
    "\n",
    "\n",
    "\"\"\"\n",
    "DON'T MODIFY ANYTHING IN THIS CELL THAT IS BELOW THIS LINE\n",
    "\"\"\"\n",
    "tests.test_model_inputs(model_inputs)"
   ]
  },
  {
   "cell_type": "markdown",
   "metadata": {},
   "source": [
    "### Process Decoder Input\n",
    "Implement `process_decoder_input` by removing the last word id from each batch in `target_data` and concat the GO ID to the begining of each batch."
   ]
  },
  {
   "cell_type": "code",
   "execution_count": 4,
   "metadata": {},
   "outputs": [
    {
     "name": "stdout",
     "output_type": "stream",
     "text": [
      "Tests Passed\n"
     ]
    }
   ],
   "source": [
    "def process_decoder_input(target_data, target_vocab_to_int, batch_size):\n",
    "    \"\"\"\n",
    "    Preprocess target data for encoding\n",
    "    :param target_data: Target Placehoder\n",
    "    :param target_vocab_to_int: Dictionary to go from the target words to an id\n",
    "    :param batch_size: Batch Size\n",
    "    :return: Preprocessed target data\n",
    "    \"\"\"\n",
    "    ending = tf.strided_slice(target_data, [0, 0], [batch_size, -1], [1, 1])\n",
    "    dec_input = tf.concat([tf.fill([batch_size, 1], target_vocab_to_int['<GO>']), ending], 1)\n",
    "\n",
    "    return dec_input\n",
    "\n",
    "\"\"\"\n",
    "DON'T MODIFY ANYTHING IN THIS CELL THAT IS BELOW THIS LINE\n",
    "\"\"\"\n",
    "tests.test_process_encoding_input(process_decoder_input)"
   ]
  },
  {
   "cell_type": "markdown",
   "metadata": {},
   "source": [
    "### Encoding\n",
    "Implement `encoding_layer()` to create a Encoder RNN layer:\n",
    " * Embed the encoder input using [`tf.contrib.layers.embed_sequence`](https://www.tensorflow.org/api_docs/python/tf/contrib/layers/embed_sequence)\n",
    " * Construct a [stacked](https://github.com/tensorflow/tensorflow/blob/6947f65a374ebf29e74bb71e36fd82760056d82c/tensorflow/docs_src/tutorials/recurrent.md#stacking-multiple-lstms) [`tf.contrib.rnn.LSTMCell`](https://www.tensorflow.org/api_docs/python/tf/contrib/rnn/LSTMCell) wrapped in a [`tf.contrib.rnn.DropoutWrapper`](https://www.tensorflow.org/api_docs/python/tf/contrib/rnn/DropoutWrapper)\n",
    " * Pass cell and embedded input to [`tf.nn.dynamic_rnn()`](https://www.tensorflow.org/api_docs/python/tf/nn/dynamic_rnn)"
   ]
  },
  {
   "cell_type": "code",
   "execution_count": 5,
   "metadata": {
    "scrolled": false
   },
   "outputs": [
    {
     "name": "stdout",
     "output_type": "stream",
     "text": [
      "Tests Passed\n"
     ]
    }
   ],
   "source": [
    "from imp import reload\n",
    "reload(tests)\n",
    "\n",
    "def encoding_layer(rnn_inputs, rnn_size, num_layers, keep_prob, \n",
    "                   source_sequence_length, source_vocab_size, \n",
    "                   encoding_embedding_size):\n",
    "    \"\"\"\n",
    "    Create encoding layer\n",
    "    :param rnn_inputs: Inputs for the RNN\n",
    "    :param rnn_size: RNN Size\n",
    "    :param num_layers: Number of layers\n",
    "    :param keep_prob: Dropout keep probability\n",
    "    :param source_sequence_length: a list of the lengths of each sequence in the batch\n",
    "    :param source_vocab_size: vocabulary size of source data\n",
    "    :param encoding_embedding_size: embedding size of source data\n",
    "    :return: tuple (RNN output, RNN state)\n",
    "    \"\"\"\n",
    "    # Encoder embedding\n",
    "    enc_embed_input = tf.contrib.layers.embed_sequence(rnn_inputs, source_vocab_size, encoding_embedding_size)\n",
    "\n",
    "    # RNN cell\n",
    "    def make_cell(rnn_size):\n",
    "        enc_cell = tf.contrib.rnn.LSTMCell(rnn_size,\n",
    "                                           initializer=tf.random_uniform_initializer(-0.1, 0.1, seed=2))\n",
    "        enc_cell = tf.contrib.rnn.DropoutWrapper(enc_cell, keep_prob)\n",
    "        return enc_cell\n",
    "\n",
    "    enc_cell = tf.contrib.rnn.MultiRNNCell([make_cell(rnn_size) for _ in range(num_layers)])\n",
    "    \n",
    "    enc_output, enc_state = tf.nn.dynamic_rnn(enc_cell, enc_embed_input, sequence_length=source_sequence_length, dtype=tf.float32)\n",
    "    \n",
    "    return enc_output, enc_state\n",
    "\n",
    "\"\"\"\n",
    "DON'T MODIFY ANYTHING IN THIS CELL THAT IS BELOW THIS LINE\n",
    "\"\"\"\n",
    "tests.test_encoding_layer(encoding_layer)"
   ]
  },
  {
   "cell_type": "markdown",
   "metadata": {},
   "source": [
    "### Decoding - Training\n",
    "Create a training decoding layer:\n",
    "* Create a [`tf.contrib.seq2seq.TrainingHelper`](https://www.tensorflow.org/api_docs/python/tf/contrib/seq2seq/TrainingHelper) \n",
    "* Create a [`tf.contrib.seq2seq.BasicDecoder`](https://www.tensorflow.org/api_docs/python/tf/contrib/seq2seq/BasicDecoder)\n",
    "* Obtain the decoder outputs from [`tf.contrib.seq2seq.dynamic_decode`](https://www.tensorflow.org/api_docs/python/tf/contrib/seq2seq/dynamic_decode)"
   ]
  },
  {
   "cell_type": "code",
   "execution_count": 6,
   "metadata": {},
   "outputs": [
    {
     "name": "stdout",
     "output_type": "stream",
     "text": [
      "Tests Passed\n"
     ]
    }
   ],
   "source": [
    "\n",
    "def decoding_layer_train(encoder_state, dec_cell, dec_embed_input, \n",
    "                         target_sequence_length, max_summary_length, \n",
    "                         output_layer, keep_prob):\n",
    "    \"\"\"\n",
    "    Create a decoding layer for training\n",
    "    :param encoder_state: Encoder State\n",
    "    :param dec_cell: Decoder RNN Cell\n",
    "    :param dec_embed_input: Decoder embedded input\n",
    "    :param target_sequence_length: The lengths of each sequence in the target batch\n",
    "    :param max_summary_length: The length of the longest sequence in the batch\n",
    "    :param output_layer: Function to apply the output layer\n",
    "    :param keep_prob: Dropout keep probability\n",
    "    :return: BasicDecoderOutput containing training logits and sample_id\n",
    "    \"\"\"\n",
    "    # Helper for the training process. Used by BasicDecoder to read inputs.\n",
    "    training_helper = tf.contrib.seq2seq.TrainingHelper(inputs=dec_embed_input,\n",
    "                                                            sequence_length=target_sequence_length,\n",
    "                                                            time_major=False)\n",
    "        \n",
    "    # Basic decoder\n",
    "    training_decoder = tf.contrib.seq2seq.BasicDecoder(dec_cell,\n",
    "                                                           training_helper,\n",
    "                                                           encoder_state,\n",
    "                                                           output_layer)\n",
    "        \n",
    "    # Perform dynamic decoding using the decoder\n",
    "    training_decoder_output = tf.contrib.seq2seq.dynamic_decode(training_decoder,\n",
    "                                                    impute_finished=True,\n",
    "                                                    maximum_iterations=max_summary_length)[0]\n",
    "        \n",
    "    # Dropout somewhere here ?\n",
    "    \n",
    "    return training_decoder_output\n",
    "\n",
    "\n",
    "\n",
    "\"\"\"\n",
    "DON'T MODIFY ANYTHING IN THIS CELL THAT IS BELOW THIS LINE\n",
    "\"\"\"\n",
    "tests.test_decoding_layer_train(decoding_layer_train)"
   ]
  },
  {
   "cell_type": "markdown",
   "metadata": {},
   "source": [
    "### Decoding - Inference\n",
    "Create inference decoder:\n",
    "* Create a [`tf.contrib.seq2seq.GreedyEmbeddingHelper`](https://www.tensorflow.org/api_docs/python/tf/contrib/seq2seq/GreedyEmbeddingHelper)\n",
    "* Create a [`tf.contrib.seq2seq.BasicDecoder`](https://www.tensorflow.org/api_docs/python/tf/contrib/seq2seq/BasicDecoder)\n",
    "* Obtain the decoder outputs from [`tf.contrib.seq2seq.dynamic_decode`](https://www.tensorflow.org/api_docs/python/tf/contrib/seq2seq/dynamic_decode)"
   ]
  },
  {
   "cell_type": "code",
   "execution_count": 7,
   "metadata": {
    "scrolled": true
   },
   "outputs": [
    {
     "name": "stdout",
     "output_type": "stream",
     "text": [
      "Tests Passed\n"
     ]
    }
   ],
   "source": [
    "def decoding_layer_infer(encoder_state, dec_cell, dec_embeddings, start_of_sequence_id,\n",
    "                         end_of_sequence_id, max_target_sequence_length,\n",
    "                         vocab_size, output_layer, batch_size, keep_prob):\n",
    "    \"\"\"\n",
    "    Create a decoding layer for inference\n",
    "    :param encoder_state: Encoder state\n",
    "    :param dec_cell: Decoder RNN Cell\n",
    "    :param dec_embeddings: Decoder embeddings\n",
    "    :param start_of_sequence_id: GO ID\n",
    "    :param end_of_sequence_id: EOS Id\n",
    "    :param max_target_sequence_length: Maximum length of target sequences\n",
    "    :param vocab_size: Size of decoder/target vocabulary\n",
    "    :param decoding_scope: TenorFlow Variable Scope for decoding\n",
    "    :param output_layer: Function to apply the output layer\n",
    "    :param batch_size: Batch size\n",
    "    :param keep_prob: Dropout keep probability\n",
    "    :return: BasicDecoderOutput containing inference logits and sample_id\n",
    "    \"\"\"\n",
    "    start_tokens = tf.tile(tf.constant([start_of_sequence_id], dtype=tf.int32), \n",
    "                               [batch_size])\n",
    "\n",
    "    # Helper for the inference process.\n",
    "    inference_helper = tf.contrib.seq2seq.GreedyEmbeddingHelper(dec_embeddings,\n",
    "                                                                start_tokens,\n",
    "                                                                end_of_sequence_id)\n",
    "\n",
    "    # Basic decoder\n",
    "    inference_decoder = tf.contrib.seq2seq.BasicDecoder(dec_cell,\n",
    "                                                        inference_helper,\n",
    "                                                        encoder_state,\n",
    "                                                        output_layer)\n",
    "        \n",
    "    # Perform dynamic decoding using the decoder\n",
    "    inference_decoder_output = tf.contrib.seq2seq.dynamic_decode(inference_decoder,\n",
    "                                                            impute_finished=True,\n",
    "                                                            maximum_iterations=max_target_sequence_length)[0]\n",
    "\n",
    "    \n",
    "    return inference_decoder_output\n",
    "\n",
    "\n",
    "\n",
    "\"\"\"\n",
    "DON'T MODIFY ANYTHING IN THIS CELL THAT IS BELOW THIS LINE\n",
    "\"\"\"\n",
    "tests.test_decoding_layer_infer(decoding_layer_infer)"
   ]
  },
  {
   "cell_type": "markdown",
   "metadata": {},
   "source": [
    "### Build the Decoding Layer\n",
    "Implement `decoding_layer()` to create a Decoder RNN layer.\n",
    "\n",
    "* Embed the target sequences\n",
    "* Construct the decoder LSTM cell (just like you constructed the encoder cell above)\n",
    "* Create an output layer to map the outputs of the decoder to the elements of our vocabulary\n",
    "* Use the your `decoding_layer_train(encoder_state, dec_cell, dec_embed_input, target_sequence_length, max_target_sequence_length, output_layer, keep_prob)` function to get the training logits.\n",
    "* Use your `decoding_layer_infer(encoder_state, dec_cell, dec_embeddings, start_of_sequence_id, end_of_sequence_id, max_target_sequence_length, vocab_size, output_layer, batch_size, keep_prob)` function to get the inference logits.\n",
    "\n",
    "Note: You'll need to use [tf.variable_scope](https://www.tensorflow.org/api_docs/python/tf/variable_scope) to share variables between training and inference."
   ]
  },
  {
   "cell_type": "code",
   "execution_count": 8,
   "metadata": {},
   "outputs": [
    {
     "name": "stdout",
     "output_type": "stream",
     "text": [
      "Tests Passed\n"
     ]
    }
   ],
   "source": [
    "def decoding_layer(dec_input, encoder_state,\n",
    "                   target_sequence_length, max_target_sequence_length,\n",
    "                   rnn_size,\n",
    "                   num_layers, target_vocab_to_int, target_vocab_size,\n",
    "                   batch_size, keep_prob, decoding_embedding_size):\n",
    "    \"\"\"\n",
    "    Create decoding layer\n",
    "    :param dec_input: Decoder input\n",
    "    :param encoder_state: Encoder state\n",
    "    :param target_sequence_length: The lengths of each sequence in the target batch\n",
    "    :param max_target_sequence_length: Maximum length of target sequences\n",
    "    :param rnn_size: RNN Size\n",
    "    :param num_layers: Number of layers\n",
    "    :param target_vocab_to_int: Dictionary to go from the target words to an id\n",
    "    :param target_vocab_size: Size of target vocabulary\n",
    "    :param batch_size: The size of the batch\n",
    "    :param keep_prob: Dropout keep probability\n",
    "    :param decoding_embedding_size: Decoding embedding size\n",
    "    :return: Tuple of (Training BasicDecoderOutput, Inference BasicDecoderOutput)\n",
    "    \"\"\"\n",
    "    \n",
    "    dec_embeddings = tf.Variable(tf.random_uniform([target_vocab_size, decoding_embedding_size]))\n",
    "    dec_embed_input = tf.nn.embedding_lookup(dec_embeddings, dec_input)\n",
    "    \n",
    "    end_of_sequence_id = target_vocab_to_int['<EOS>']\n",
    "    start_of_sequence_id = target_vocab_to_int['<GO>']\n",
    "    \n",
    "    def make_cell(rnn_size):\n",
    "        dec_cell = tf.contrib.rnn.LSTMCell(rnn_size,\n",
    "                                           initializer=tf.random_uniform_initializer(-0.1, 0.1, seed=2))\n",
    "        dec_cell = tf.contrib.rnn.DropoutWrapper(dec_cell, keep_prob)\n",
    "        return dec_cell\n",
    "\n",
    "    dec_cell = tf.contrib.rnn.MultiRNNCell([make_cell(rnn_size) for _ in range(num_layers)])\n",
    "    \n",
    "    output_layer = Dense(target_vocab_size,\n",
    "                         kernel_initializer = tf.truncated_normal_initializer(mean = 0.0, stddev=0.1))    \n",
    "    \n",
    "    with tf.variable_scope('decode'):\n",
    "        t_basic_decoder_output = decoding_layer_train(encoder_state, dec_cell, dec_embed_input, \n",
    "                             target_sequence_length, max_target_sequence_length, \n",
    "                             output_layer, keep_prob)\n",
    "    \n",
    "    with tf.variable_scope('decode', reuse=True):\n",
    "        i_basic_decoder_output = decoding_layer_infer(encoder_state, dec_cell, dec_embeddings, start_of_sequence_id,\n",
    "                             end_of_sequence_id, max_target_sequence_length,\n",
    "                             target_vocab_size, output_layer, batch_size, keep_prob)\n",
    "\n",
    "    \n",
    "    return t_basic_decoder_output, i_basic_decoder_output\n",
    "\n",
    "\n",
    "\n",
    "\"\"\"\n",
    "DON'T MODIFY ANYTHING IN THIS CELL THAT IS BELOW THIS LINE\n",
    "\"\"\"\n",
    "tests.test_decoding_layer(decoding_layer)"
   ]
  },
  {
   "cell_type": "markdown",
   "metadata": {},
   "source": [
    "### Build the Neural Network\n",
    "Apply the functions you implemented above to:\n",
    "\n",
    "- Encode the input using your `encoding_layer(rnn_inputs, rnn_size, num_layers, keep_prob,  source_sequence_length, source_vocab_size, encoding_embedding_size)`.\n",
    "- Process target data using your `process_decoder_input(target_data, target_vocab_to_int, batch_size)` function.\n",
    "- Decode the encoded input using your `decoding_layer(dec_input, enc_state, target_sequence_length, max_target_sentence_length, rnn_size, num_layers, target_vocab_to_int, target_vocab_size, batch_size, keep_prob, dec_embedding_size)` function."
   ]
  },
  {
   "cell_type": "code",
   "execution_count": 9,
   "metadata": {},
   "outputs": [
    {
     "name": "stdout",
     "output_type": "stream",
     "text": [
      "Tests Passed\n"
     ]
    }
   ],
   "source": [
    "def seq2seq_model(input_data, target_data, keep_prob, batch_size,\n",
    "                  source_sequence_length, target_sequence_length,\n",
    "                  max_target_sentence_length,\n",
    "                  source_vocab_size, target_vocab_size,\n",
    "                  enc_embedding_size, dec_embedding_size,\n",
    "                  rnn_size, num_layers, target_vocab_to_int):\n",
    "    \"\"\"\n",
    "    Build the Sequence-to-Sequence part of the neural network\n",
    "    :param input_data: Input placeholder\n",
    "    :param target_data: Target placeholder\n",
    "    :param keep_prob: Dropout keep probability placeholder\n",
    "    :param batch_size: Batch Size\n",
    "    :param source_sequence_length: Sequence Lengths of source sequences in the batch\n",
    "    :param target_sequence_length: Sequence Lengths of target sequences in the batch\n",
    "    :param source_vocab_size: Source vocabulary size\n",
    "    :param target_vocab_size: Target vocabulary size\n",
    "    :param enc_embedding_size: Decoder embedding size\n",
    "    :param dec_embedding_size: Encoder embedding size\n",
    "    :param rnn_size: RNN Size\n",
    "    :param num_layers: Number of layers\n",
    "    :param target_vocab_to_int: Dictionary to go from the target words to an id\n",
    "    :return: Tuple of (Training BasicDecoderOutput, Inference BasicDecoderOutput)\n",
    "    \"\"\"\n",
    "    _, enc_state = encoding_layer(input_data, \n",
    "                                  rnn_size, \n",
    "                                  num_layers, \n",
    "                                  keep_prob,\n",
    "                                  source_sequence_length,\n",
    "                                  source_vocab_size, \n",
    "                                  enc_embedding_size)\n",
    "    \n",
    "    dec_input = process_decoder_input(target_data, target_vocab_to_int, batch_size)\n",
    "    \n",
    "    training_decoder_output, inference_decoder_output = decoding_layer(dec_input,\n",
    "                                                                       enc_state,\n",
    "                                                                       target_sequence_length, \n",
    "                                                                       dec_embedding_size,  \n",
    "                                                                       rnn_size,\n",
    "                                                                       num_layers,\n",
    "                                                                       target_vocab_to_int,\n",
    "                                                                       target_vocab_size,\n",
    "                                                                       batch_size, \n",
    "                                                                       keep_prob,\n",
    "                                                                       dec_embedding_size) \n",
    "    \n",
    "    return training_decoder_output, inference_decoder_output\n",
    "\n",
    "\"\"\"\n",
    "DON'T MODIFY ANYTHING IN THIS CELL THAT IS BELOW THIS LINE\n",
    "\"\"\"\n",
    "tests.test_seq2seq_model(seq2seq_model)"
   ]
  },
  {
   "cell_type": "markdown",
   "metadata": {},
   "source": [
    "## Neural Network Training\n",
    "### Hyperparameters\n",
    "Tune the following parameters:\n",
    "\n",
    "- Set `epochs` to the number of epochs.\n",
    "- Set `batch_size` to the batch size.\n",
    "- Set `rnn_size` to the size of the RNNs.\n",
    "- Set `num_layers` to the number of layers.\n",
    "- Set `encoding_embedding_size` to the size of the embedding for the encoder.\n",
    "- Set `decoding_embedding_size` to the size of the embedding for the decoder.\n",
    "- Set `learning_rate` to the learning rate.\n",
    "- Set `keep_probability` to the Dropout keep probability\n",
    "- Set `display_step` to state how many steps between each debug output statement"
   ]
  },
  {
   "cell_type": "code",
   "execution_count": 26,
   "metadata": {
    "collapsed": true
   },
   "outputs": [],
   "source": [
    "###### Number of Epochs\n",
    "epochs = 5\n",
    "# Batch Size\n",
    "batch_size = 2400\n",
    "# RNN Size\n",
    "rnn_size = 256\n",
    "# Number of Layers\n",
    "num_layers = 1\n",
    "# Embedding Size\n",
    "encoding_embedding_size = 64\n",
    "decoding_embedding_size = 32\n",
    "# Learning Rate\n",
    "learning_rate = 0.01\n",
    "# Dropout Keep Probability\n",
    "keep_probability = 0.5\n",
    "display_step = 1"
   ]
  },
  {
   "cell_type": "markdown",
   "metadata": {},
   "source": [
    "### Build the Graph\n",
    "Build the graph using the neural network you implemented."
   ]
  },
  {
   "cell_type": "code",
   "execution_count": 27,
   "metadata": {
    "collapsed": true
   },
   "outputs": [],
   "source": [
    "\"\"\"\n",
    "DON'T MODIFY ANYTHING IN THIS CELL\n",
    "\"\"\"\n",
    "save_path = 'checkpoints/dev'\n",
    "(source_int_text, target_int_text), (source_vocab_to_int, target_vocab_to_int), _ = helper.load_preprocess()\n",
    "max_target_sentence_length = max([len(sentence) for sentence in source_int_text])\n",
    "\n",
    "train_graph = tf.Graph()\n",
    "with train_graph.as_default():\n",
    "    input_data, targets, lr, keep_prob, target_sequence_length, max_target_sequence_length, source_sequence_length = model_inputs()\n",
    "\n",
    "    #sequence_length = tf.placeholder_with_default(max_target_sentence_length, None, name='sequence_length')\n",
    "    input_shape = tf.shape(input_data)\n",
    "\n",
    "    train_logits, inference_logits = seq2seq_model(tf.reverse(input_data, [-1]),\n",
    "                                                   targets,\n",
    "                                                   keep_prob,\n",
    "                                                   batch_size,\n",
    "                                                   source_sequence_length,\n",
    "                                                   target_sequence_length,\n",
    "                                                   max_target_sequence_length,\n",
    "                                                   len(source_vocab_to_int),\n",
    "                                                   len(target_vocab_to_int),\n",
    "                                                   encoding_embedding_size,\n",
    "                                                   decoding_embedding_size,\n",
    "                                                   rnn_size,\n",
    "                                                   num_layers,\n",
    "                                                   target_vocab_to_int)\n",
    "\n",
    "\n",
    "    training_logits = tf.identity(train_logits.rnn_output, name='logits')\n",
    "    inference_logits = tf.identity(inference_logits.sample_id, name='predictions')\n",
    "\n",
    "    masks = tf.sequence_mask(target_sequence_length, max_target_sequence_length, dtype=tf.float32, name='masks')\n",
    "\n",
    "    with tf.name_scope(\"optimization\"):\n",
    "        # Loss function\n",
    "        cost = tf.contrib.seq2seq.sequence_loss(\n",
    "            training_logits,\n",
    "            targets,\n",
    "            masks)\n",
    "\n",
    "        # Optimizer\n",
    "        optimizer = tf.train.AdamOptimizer(lr)\n",
    "\n",
    "        # Gradient Clipping\n",
    "        gradients = optimizer.compute_gradients(cost)\n",
    "        capped_gradients = [(tf.clip_by_value(grad, -1., 1.), var) for grad, var in gradients if grad is not None]\n",
    "        train_op = optimizer.apply_gradients(capped_gradients)\n"
   ]
  },
  {
   "cell_type": "markdown",
   "metadata": {},
   "source": [
    "Batch and pad the source and target sequences"
   ]
  },
  {
   "cell_type": "code",
   "execution_count": 28,
   "metadata": {
    "collapsed": true
   },
   "outputs": [],
   "source": [
    "\"\"\"\n",
    "DON'T MODIFY ANYTHING IN THIS CELL\n",
    "\"\"\"\n",
    "def pad_sentence_batch(sentence_batch, pad_int):\n",
    "    \"\"\"Pad sentences with <PAD> so that each sentence of a batch has the same length\"\"\"\n",
    "    max_sentence = max([len(sentence) for sentence in sentence_batch])\n",
    "    return [sentence + [pad_int] * (max_sentence - len(sentence)) for sentence in sentence_batch]\n",
    "\n",
    "\n",
    "def get_batches(sources, targets, batch_size, source_pad_int, target_pad_int):\n",
    "    \"\"\"Batch targets, sources, and the lengths of their sentences together\"\"\"\n",
    "    for batch_i in range(0, len(sources)//batch_size):\n",
    "        start_i = batch_i * batch_size\n",
    "\n",
    "        # Slice the right amount for the batch\n",
    "        sources_batch = sources[start_i:start_i + batch_size]\n",
    "        targets_batch = targets[start_i:start_i + batch_size]\n",
    "\n",
    "        # Pad\n",
    "        pad_sources_batch = np.array(pad_sentence_batch(sources_batch, source_pad_int))\n",
    "        pad_targets_batch = np.array(pad_sentence_batch(targets_batch, target_pad_int))\n",
    "\n",
    "        # Need the lengths for the _lengths parameters\n",
    "        pad_targets_lengths = []\n",
    "        for target in pad_targets_batch:\n",
    "            pad_targets_lengths.append(len(target))\n",
    "\n",
    "        pad_source_lengths = []\n",
    "        for source in pad_sources_batch:\n",
    "            pad_source_lengths.append(len(source))\n",
    "\n",
    "        yield pad_sources_batch, pad_targets_batch, pad_source_lengths, pad_targets_lengths\n"
   ]
  },
  {
   "cell_type": "markdown",
   "metadata": {},
   "source": [
    "### Train\n",
    "Train the neural network on the preprocessed data. If you have a hard time getting a good loss, check the forms to see if anyone is having the same problem."
   ]
  },
  {
   "cell_type": "code",
   "execution_count": 29,
   "metadata": {
    "scrolled": true
   },
   "outputs": [
    {
     "name": "stdout",
     "output_type": "stream",
     "text": [
      "Epoch   0 Batch    1/57 - Train Accuracy: 0.0253, Validation Accuracy: 0.0251, Loss: 4.3256\n",
      "Epoch   0 Batch    2/57 - Train Accuracy: 0.5208, Validation Accuracy: 0.5234, Loss: 4.5611\n",
      "Epoch   0 Batch    3/57 - Train Accuracy: 0.5235, Validation Accuracy: 0.5234, Loss: 3.5747\n",
      "Epoch   0 Batch    4/57 - Train Accuracy: 0.5345, Validation Accuracy: 0.5311, Loss: 3.5944\n",
      "Epoch   0 Batch    5/57 - Train Accuracy: 0.5439, Validation Accuracy: 0.5458, Loss: 3.5919\n",
      "Epoch   0 Batch    6/57 - Train Accuracy: 0.5462, Validation Accuracy: 0.5467, Loss: 3.5159\n",
      "Epoch   0 Batch    7/57 - Train Accuracy: 0.5474, Validation Accuracy: 0.5468, Loss: 3.4480\n",
      "Epoch   0 Batch    8/57 - Train Accuracy: 0.5524, Validation Accuracy: 0.5505, Loss: 3.2136\n",
      "Epoch   0 Batch    9/57 - Train Accuracy: 0.5545, Validation Accuracy: 0.5522, Loss: 3.0714\n",
      "Epoch   0 Batch   10/57 - Train Accuracy: 0.5563, Validation Accuracy: 0.5550, Loss: 3.1323\n",
      "Epoch   0 Batch   11/57 - Train Accuracy: 0.5789, Validation Accuracy: 0.5764, Loss: 3.0701\n",
      "Epoch   0 Batch   12/57 - Train Accuracy: 0.5777, Validation Accuracy: 0.5803, Loss: 2.8961\n",
      "Epoch   0 Batch   13/57 - Train Accuracy: 0.5735, Validation Accuracy: 0.5755, Loss: 2.8054\n",
      "Epoch   0 Batch   14/57 - Train Accuracy: 0.5851, Validation Accuracy: 0.5829, Loss: 2.7466\n",
      "Epoch   0 Batch   15/57 - Train Accuracy: 0.5845, Validation Accuracy: 0.5845, Loss: 2.7819\n",
      "Epoch   0 Batch   16/57 - Train Accuracy: 0.5901, Validation Accuracy: 0.5878, Loss: 2.6961\n",
      "Epoch   0 Batch   17/57 - Train Accuracy: 0.5946, Validation Accuracy: 0.5963, Loss: 2.6605\n",
      "Epoch   0 Batch   18/57 - Train Accuracy: 0.6016, Validation Accuracy: 0.6006, Loss: 2.5857\n",
      "Epoch   0 Batch   19/57 - Train Accuracy: 0.6042, Validation Accuracy: 0.6034, Loss: 2.4427\n",
      "Epoch   0 Batch   20/57 - Train Accuracy: 0.4305, Validation Accuracy: 0.4502, Loss: 2.4774\n",
      "Epoch   0 Batch   21/57 - Train Accuracy: 0.4265, Validation Accuracy: 0.4540, Loss: 2.4592\n",
      "Epoch   0 Batch   22/57 - Train Accuracy: 0.4177, Validation Accuracy: 0.4455, Loss: 2.4155\n",
      "Epoch   0 Batch   23/57 - Train Accuracy: 0.4598, Validation Accuracy: 0.4597, Loss: 2.2634\n",
      "Epoch   0 Batch   24/57 - Train Accuracy: 0.4317, Validation Accuracy: 0.4536, Loss: 2.3159\n",
      "Epoch   0 Batch   25/57 - Train Accuracy: 0.4461, Validation Accuracy: 0.4709, Loss: 2.2913\n",
      "Epoch   0 Batch   26/57 - Train Accuracy: 0.4468, Validation Accuracy: 0.4677, Loss: 2.2394\n",
      "Epoch   0 Batch   27/57 - Train Accuracy: 0.4556, Validation Accuracy: 0.4836, Loss: 2.2023\n",
      "Epoch   0 Batch   28/57 - Train Accuracy: 0.4769, Validation Accuracy: 0.5010, Loss: 2.1695\n",
      "Epoch   0 Batch   29/57 - Train Accuracy: 0.4884, Validation Accuracy: 0.5047, Loss: 2.0918\n",
      "Epoch   0 Batch   30/57 - Train Accuracy: 0.5097, Validation Accuracy: 0.5111, Loss: 1.9983\n",
      "Epoch   0 Batch   31/57 - Train Accuracy: 0.5197, Validation Accuracy: 0.5158, Loss: 1.9484\n",
      "Epoch   0 Batch   32/57 - Train Accuracy: 0.5112, Validation Accuracy: 0.5112, Loss: 1.8976\n",
      "Epoch   0 Batch   33/57 - Train Accuracy: 0.5162, Validation Accuracy: 0.5374, Loss: 1.9555\n",
      "Epoch   0 Batch   34/57 - Train Accuracy: 0.5456, Validation Accuracy: 0.5396, Loss: 1.8125\n",
      "Epoch   0 Batch   35/57 - Train Accuracy: 0.5023, Validation Accuracy: 0.5236, Loss: 1.8625\n",
      "Epoch   0 Batch   36/57 - Train Accuracy: 0.5046, Validation Accuracy: 0.5277, Loss: 1.8272\n",
      "Epoch   0 Batch   37/57 - Train Accuracy: 0.5284, Validation Accuracy: 0.5284, Loss: 1.6931\n",
      "Epoch   0 Batch   38/57 - Train Accuracy: 0.5726, Validation Accuracy: 0.5316, Loss: 1.5080\n",
      "Epoch   0 Batch   39/57 - Train Accuracy: 0.5376, Validation Accuracy: 0.5520, Loss: 1.6556\n",
      "Epoch   0 Batch   40/57 - Train Accuracy: 0.5213, Validation Accuracy: 0.5416, Loss: 1.6482\n",
      "Epoch   0 Batch   41/57 - Train Accuracy: 0.5205, Validation Accuracy: 0.5437, Loss: 1.6073\n",
      "Epoch   0 Batch   42/57 - Train Accuracy: 0.5088, Validation Accuracy: 0.5337, Loss: 1.5489\n",
      "Epoch   0 Batch   43/57 - Train Accuracy: 0.5391, Validation Accuracy: 0.5412, Loss: 1.4526\n",
      "Epoch   0 Batch   44/57 - Train Accuracy: 0.5191, Validation Accuracy: 0.5337, Loss: 1.4594\n",
      "Epoch   0 Batch   45/57 - Train Accuracy: 0.5663, Validation Accuracy: 0.5618, Loss: 1.3568\n",
      "Epoch   0 Batch   46/57 - Train Accuracy: 0.5633, Validation Accuracy: 0.5578, Loss: 1.2977\n",
      "Epoch   0 Batch   47/57 - Train Accuracy: 0.5854, Validation Accuracy: 0.5479, Loss: 1.1861\n",
      "Epoch   0 Batch   48/57 - Train Accuracy: 0.5387, Validation Accuracy: 0.5647, Loss: 1.3152\n",
      "Epoch   0 Batch   49/57 - Train Accuracy: 0.5392, Validation Accuracy: 0.5641, Loss: 1.2764\n",
      "Epoch   0 Batch   50/57 - Train Accuracy: 0.5778, Validation Accuracy: 0.5563, Loss: 1.1335\n",
      "Epoch   0 Batch   51/57 - Train Accuracy: 0.5539, Validation Accuracy: 0.5706, Loss: 1.1941\n",
      "Epoch   0 Batch   52/57 - Train Accuracy: 0.5782, Validation Accuracy: 0.5695, Loss: 1.1072\n",
      "Epoch   0 Batch   53/57 - Train Accuracy: 0.7017, Validation Accuracy: 0.7029, Loss: 1.0945\n",
      "Epoch   0 Batch   54/57 - Train Accuracy: 0.5466, Validation Accuracy: 0.7008, Loss: 1.1184\n",
      "Epoch   0 Batch   55/57 - Train Accuracy: 0.7048, Validation Accuracy: 0.7018, Loss: 1.0866\n",
      "Epoch   1 Batch    1/57 - Train Accuracy: 0.7012, Validation Accuracy: 0.6996, Loss: 1.0359\n",
      "Epoch   1 Batch    2/57 - Train Accuracy: 0.7029, Validation Accuracy: 0.6990, Loss: 0.9589\n",
      "Epoch   1 Batch    3/57 - Train Accuracy: 0.7082, Validation Accuracy: 0.7042, Loss: 0.9394\n",
      "Epoch   1 Batch    4/57 - Train Accuracy: 0.7089, Validation Accuracy: 0.7024, Loss: 0.9171\n",
      "Epoch   1 Batch    5/57 - Train Accuracy: 0.7008, Validation Accuracy: 0.7021, Loss: 0.9429\n",
      "Epoch   1 Batch    6/57 - Train Accuracy: 0.7065, Validation Accuracy: 0.7041, Loss: 0.9232\n",
      "Epoch   1 Batch    7/57 - Train Accuracy: 0.7057, Validation Accuracy: 0.7082, Loss: 0.9126\n",
      "Epoch   1 Batch    8/57 - Train Accuracy: 0.7107, Validation Accuracy: 0.7085, Loss: 0.8533\n",
      "Epoch   1 Batch    9/57 - Train Accuracy: 0.7129, Validation Accuracy: 0.7074, Loss: 0.8273\n",
      "Epoch   1 Batch   10/57 - Train Accuracy: 0.7086, Validation Accuracy: 0.7069, Loss: 0.8607\n",
      "Epoch   1 Batch   11/57 - Train Accuracy: 0.7128, Validation Accuracy: 0.7051, Loss: 0.8469\n",
      "Epoch   1 Batch   12/57 - Train Accuracy: 0.7054, Validation Accuracy: 0.7061, Loss: 0.8060\n",
      "Epoch   1 Batch   13/57 - Train Accuracy: 0.7028, Validation Accuracy: 0.7061, Loss: 0.8013\n",
      "Epoch   1 Batch   14/57 - Train Accuracy: 0.7047, Validation Accuracy: 0.7046, Loss: 0.7954\n",
      "Epoch   1 Batch   15/57 - Train Accuracy: 0.7086, Validation Accuracy: 0.7043, Loss: 0.8092\n",
      "Epoch   1 Batch   16/57 - Train Accuracy: 0.7195, Validation Accuracy: 0.7115, Loss: 0.7911\n",
      "Epoch   1 Batch   17/57 - Train Accuracy: 0.7118, Validation Accuracy: 0.7144, Loss: 0.7936\n",
      "Epoch   1 Batch   18/57 - Train Accuracy: 0.7109, Validation Accuracy: 0.7120, Loss: 0.7758\n",
      "Epoch   1 Batch   19/57 - Train Accuracy: 0.7090, Validation Accuracy: 0.7097, Loss: 0.7443\n",
      "Epoch   1 Batch   20/57 - Train Accuracy: 0.7221, Validation Accuracy: 0.7133, Loss: 0.7610\n",
      "Epoch   1 Batch   21/57 - Train Accuracy: 0.7169, Validation Accuracy: 0.7166, Loss: 0.7602\n",
      "Epoch   1 Batch   22/57 - Train Accuracy: 0.7143, Validation Accuracy: 0.7183, Loss: 0.7562\n",
      "Epoch   1 Batch   23/57 - Train Accuracy: 0.7198, Validation Accuracy: 0.7176, Loss: 0.7055\n",
      "Epoch   1 Batch   24/57 - Train Accuracy: 0.5831, Validation Accuracy: 0.7213, Loss: 0.7338\n",
      "Epoch   1 Batch   25/57 - Train Accuracy: 0.5847, Validation Accuracy: 0.6048, Loss: 0.7226\n",
      "Epoch   1 Batch   26/57 - Train Accuracy: 0.5940, Validation Accuracy: 0.6117, Loss: 0.7144\n",
      "Epoch   1 Batch   27/57 - Train Accuracy: 0.5897, Validation Accuracy: 0.6083, Loss: 0.7097\n",
      "Epoch   1 Batch   28/57 - Train Accuracy: 0.7276, Validation Accuracy: 0.6047, Loss: 0.7138\n",
      "Epoch   1 Batch   29/57 - Train Accuracy: 0.6005, Validation Accuracy: 0.6090, Loss: 0.6992\n",
      "Epoch   1 Batch   30/57 - Train Accuracy: 0.6210, Validation Accuracy: 0.6213, Loss: 0.6614\n",
      "Epoch   1 Batch   31/57 - Train Accuracy: 0.6309, Validation Accuracy: 0.7436, Loss: 0.6622\n",
      "Epoch   1 Batch   32/57 - Train Accuracy: 0.6257, Validation Accuracy: 0.6256, Loss: 0.6513\n",
      "Epoch   1 Batch   33/57 - Train Accuracy: 0.6139, Validation Accuracy: 0.6309, Loss: 0.6789\n",
      "Epoch   1 Batch   34/57 - Train Accuracy: 0.6275, Validation Accuracy: 0.6289, Loss: 0.6346\n",
      "Epoch   1 Batch   35/57 - Train Accuracy: 0.6251, Validation Accuracy: 0.6380, Loss: 0.6703\n"
     ]
    },
    {
     "name": "stdout",
     "output_type": "stream",
     "text": [
      "Epoch   1 Batch   36/57 - Train Accuracy: 0.6111, Validation Accuracy: 0.6345, Loss: 0.6699\n",
      "Epoch   1 Batch   37/57 - Train Accuracy: 0.6336, Validation Accuracy: 0.6352, Loss: 0.6245\n",
      "Epoch   1 Batch   38/57 - Train Accuracy: 0.6717, Validation Accuracy: 0.6398, Loss: 0.5671\n",
      "Epoch   1 Batch   39/57 - Train Accuracy: 0.6283, Validation Accuracy: 0.6392, Loss: 0.6335\n",
      "Epoch   1 Batch   40/57 - Train Accuracy: 0.6208, Validation Accuracy: 0.6378, Loss: 0.6417\n",
      "Epoch   1 Batch   41/57 - Train Accuracy: 0.6197, Validation Accuracy: 0.6447, Loss: 0.6388\n",
      "Epoch   1 Batch   42/57 - Train Accuracy: 0.6282, Validation Accuracy: 0.6459, Loss: 0.6263\n",
      "Epoch   1 Batch   43/57 - Train Accuracy: 0.6469, Validation Accuracy: 0.6483, Loss: 0.5930\n",
      "Epoch   1 Batch   44/57 - Train Accuracy: 0.6401, Validation Accuracy: 0.6543, Loss: 0.6168\n",
      "Epoch   1 Batch   45/57 - Train Accuracy: 0.6523, Validation Accuracy: 0.6533, Loss: 0.5819\n",
      "Epoch   1 Batch   46/57 - Train Accuracy: 0.6541, Validation Accuracy: 0.6533, Loss: 0.5762\n",
      "Epoch   1 Batch   47/57 - Train Accuracy: 0.6924, Validation Accuracy: 0.6577, Loss: 0.5276\n",
      "Epoch   1 Batch   48/57 - Train Accuracy: 0.6391, Validation Accuracy: 0.6581, Loss: 0.5979\n",
      "Epoch   1 Batch   49/57 - Train Accuracy: 0.6455, Validation Accuracy: 0.6578, Loss: 0.5898\n",
      "Epoch   1 Batch   50/57 - Train Accuracy: 0.6832, Validation Accuracy: 0.6636, Loss: 0.5368\n",
      "Epoch   1 Batch   51/57 - Train Accuracy: 0.6406, Validation Accuracy: 0.6645, Loss: 0.5848\n",
      "Epoch   1 Batch   52/57 - Train Accuracy: 0.6717, Validation Accuracy: 0.6640, Loss: 0.5445\n",
      "Epoch   1 Batch   53/57 - Train Accuracy: 0.6634, Validation Accuracy: 0.6682, Loss: 0.5570\n",
      "Epoch   1 Batch   54/57 - Train Accuracy: 0.6458, Validation Accuracy: 0.6636, Loss: 0.5722\n",
      "Epoch   1 Batch   55/57 - Train Accuracy: 0.6623, Validation Accuracy: 0.6695, Loss: 0.5664\n",
      "Epoch   2 Batch    1/57 - Train Accuracy: 0.6435, Validation Accuracy: 0.6622, Loss: 0.5649\n",
      "Epoch   2 Batch    2/57 - Train Accuracy: 0.6616, Validation Accuracy: 0.6609, Loss: 0.5264\n",
      "Epoch   2 Batch    3/57 - Train Accuracy: 0.6795, Validation Accuracy: 0.6709, Loss: 0.5174\n",
      "Epoch   2 Batch    4/57 - Train Accuracy: 0.6765, Validation Accuracy: 0.6734, Loss: 0.5188\n",
      "Epoch   2 Batch    5/57 - Train Accuracy: 0.6573, Validation Accuracy: 0.6767, Loss: 0.5383\n",
      "Epoch   2 Batch    6/57 - Train Accuracy: 0.6625, Validation Accuracy: 0.6818, Loss: 0.5343\n",
      "Epoch   2 Batch    7/57 - Train Accuracy: 0.6659, Validation Accuracy: 0.6824, Loss: 0.5306\n",
      "Epoch   2 Batch    8/57 - Train Accuracy: 0.6898, Validation Accuracy: 0.6805, Loss: 0.5055\n",
      "Epoch   2 Batch    9/57 - Train Accuracy: 0.6796, Validation Accuracy: 0.6765, Loss: 0.4932\n",
      "Epoch   2 Batch   10/57 - Train Accuracy: 0.6739, Validation Accuracy: 0.6917, Loss: 0.5135\n",
      "Epoch   2 Batch   11/57 - Train Accuracy: 0.6907, Validation Accuracy: 0.6946, Loss: 0.5078\n",
      "Epoch   2 Batch   12/57 - Train Accuracy: 0.6873, Validation Accuracy: 0.6947, Loss: 0.4897\n",
      "Epoch   2 Batch   13/57 - Train Accuracy: 0.6839, Validation Accuracy: 0.6945, Loss: 0.4881\n",
      "Epoch   2 Batch   14/57 - Train Accuracy: 0.6936, Validation Accuracy: 0.6900, Loss: 0.4899\n",
      "Epoch   2 Batch   15/57 - Train Accuracy: 0.6816, Validation Accuracy: 0.6904, Loss: 0.4999\n",
      "Epoch   2 Batch   16/57 - Train Accuracy: 0.6846, Validation Accuracy: 0.6973, Loss: 0.4919\n",
      "Epoch   2 Batch   17/57 - Train Accuracy: 0.6832, Validation Accuracy: 0.7006, Loss: 0.4923\n",
      "Epoch   2 Batch   18/57 - Train Accuracy: 0.6845, Validation Accuracy: 0.7017, Loss: 0.4809\n",
      "Epoch   2 Batch   19/57 - Train Accuracy: 0.6984, Validation Accuracy: 0.7023, Loss: 0.4640\n",
      "Epoch   2 Batch   20/57 - Train Accuracy: 0.6906, Validation Accuracy: 0.7016, Loss: 0.4784\n",
      "Epoch   2 Batch   21/57 - Train Accuracy: 0.6884, Validation Accuracy: 0.7064, Loss: 0.4738\n",
      "Epoch   2 Batch   22/57 - Train Accuracy: 0.6884, Validation Accuracy: 0.7047, Loss: 0.4736\n",
      "Epoch   2 Batch   23/57 - Train Accuracy: 0.7063, Validation Accuracy: 0.7075, Loss: 0.4457\n",
      "Epoch   2 Batch   24/57 - Train Accuracy: 0.7052, Validation Accuracy: 0.7123, Loss: 0.4620\n",
      "Epoch   2 Batch   25/57 - Train Accuracy: 0.7132, Validation Accuracy: 0.7159, Loss: 0.4577\n",
      "Epoch   2 Batch   26/57 - Train Accuracy: 0.7016, Validation Accuracy: 0.7148, Loss: 0.4532\n",
      "Epoch   2 Batch   27/57 - Train Accuracy: 0.6958, Validation Accuracy: 0.7120, Loss: 0.4464\n",
      "Epoch   2 Batch   28/57 - Train Accuracy: 0.7029, Validation Accuracy: 0.7161, Loss: 0.4513\n",
      "Epoch   2 Batch   29/57 - Train Accuracy: 0.7095, Validation Accuracy: 0.7177, Loss: 0.4441\n",
      "Epoch   2 Batch   30/57 - Train Accuracy: 0.7174, Validation Accuracy: 0.7214, Loss: 0.4186\n",
      "Epoch   2 Batch   31/57 - Train Accuracy: 0.7249, Validation Accuracy: 0.7198, Loss: 0.4187\n",
      "Epoch   2 Batch   32/57 - Train Accuracy: 0.7223, Validation Accuracy: 0.7234, Loss: 0.4122\n",
      "Epoch   2 Batch   33/57 - Train Accuracy: 0.7138, Validation Accuracy: 0.7244, Loss: 0.4302\n",
      "Epoch   2 Batch   34/57 - Train Accuracy: 0.7311, Validation Accuracy: 0.7268, Loss: 0.4041\n",
      "Epoch   2 Batch   35/57 - Train Accuracy: 0.7208, Validation Accuracy: 0.7319, Loss: 0.4256\n",
      "Epoch   2 Batch   36/57 - Train Accuracy: 0.7178, Validation Accuracy: 0.7377, Loss: 0.4236\n",
      "Epoch   2 Batch   37/57 - Train Accuracy: 0.7357, Validation Accuracy: 0.7345, Loss: 0.3978\n",
      "Epoch   2 Batch   38/57 - Train Accuracy: 0.7580, Validation Accuracy: 0.7349, Loss: 0.3592\n",
      "Epoch   2 Batch   39/57 - Train Accuracy: 0.7265, Validation Accuracy: 0.7365, Loss: 0.4007\n",
      "Epoch   2 Batch   40/57 - Train Accuracy: 0.7258, Validation Accuracy: 0.7353, Loss: 0.4043\n",
      "Epoch   2 Batch   41/57 - Train Accuracy: 0.7092, Validation Accuracy: 0.7298, Loss: 0.4045\n",
      "Epoch   2 Batch   42/57 - Train Accuracy: 0.7283, Validation Accuracy: 0.7408, Loss: 0.4010\n",
      "Epoch   2 Batch   43/57 - Train Accuracy: 0.7463, Validation Accuracy: 0.7427, Loss: 0.3753\n",
      "Epoch   2 Batch   44/57 - Train Accuracy: 0.7315, Validation Accuracy: 0.7397, Loss: 0.3936\n",
      "Epoch   2 Batch   45/57 - Train Accuracy: 0.7482, Validation Accuracy: 0.7424, Loss: 0.3701\n",
      "Epoch   2 Batch   46/57 - Train Accuracy: 0.7577, Validation Accuracy: 0.7447, Loss: 0.3693\n",
      "Epoch   2 Batch   47/57 - Train Accuracy: 0.7706, Validation Accuracy: 0.7448, Loss: 0.3361\n",
      "Epoch   2 Batch   48/57 - Train Accuracy: 0.7305, Validation Accuracy: 0.7459, Loss: 0.3794\n",
      "Epoch   2 Batch   49/57 - Train Accuracy: 0.7422, Validation Accuracy: 0.7489, Loss: 0.3740\n",
      "Epoch   2 Batch   50/57 - Train Accuracy: 0.7702, Validation Accuracy: 0.7506, Loss: 0.3412\n",
      "Epoch   2 Batch   51/57 - Train Accuracy: 0.7352, Validation Accuracy: 0.7519, Loss: 0.3710\n",
      "Epoch   2 Batch   52/57 - Train Accuracy: 0.7616, Validation Accuracy: 0.7516, Loss: 0.3440\n",
      "Epoch   2 Batch   53/57 - Train Accuracy: 0.7484, Validation Accuracy: 0.7530, Loss: 0.3543\n",
      "Epoch   2 Batch   54/57 - Train Accuracy: 0.7447, Validation Accuracy: 0.7593, Loss: 0.3645\n",
      "Epoch   2 Batch   55/57 - Train Accuracy: 0.7569, Validation Accuracy: 0.7586, Loss: 0.3577\n",
      "Epoch   3 Batch    1/57 - Train Accuracy: 0.7386, Validation Accuracy: 0.7513, Loss: 0.3633\n",
      "Epoch   3 Batch    2/57 - Train Accuracy: 0.7602, Validation Accuracy: 0.7589, Loss: 0.3393\n",
      "Epoch   3 Batch    3/57 - Train Accuracy: 0.7655, Validation Accuracy: 0.7656, Loss: 0.3298\n",
      "Epoch   3 Batch    4/57 - Train Accuracy: 0.7632, Validation Accuracy: 0.7614, Loss: 0.3308\n",
      "Epoch   3 Batch    5/57 - Train Accuracy: 0.7517, Validation Accuracy: 0.7611, Loss: 0.3469\n",
      "Epoch   3 Batch    6/57 - Train Accuracy: 0.7587, Validation Accuracy: 0.7655, Loss: 0.3422\n",
      "Epoch   3 Batch    7/57 - Train Accuracy: 0.7467, Validation Accuracy: 0.7624, Loss: 0.3372\n",
      "Epoch   3 Batch    8/57 - Train Accuracy: 0.7739, Validation Accuracy: 0.7689, Loss: 0.3231\n",
      "Epoch   3 Batch    9/57 - Train Accuracy: 0.7801, Validation Accuracy: 0.7709, Loss: 0.3143\n",
      "Epoch   3 Batch   10/57 - Train Accuracy: 0.7689, Validation Accuracy: 0.7688, Loss: 0.3236\n",
      "Epoch   3 Batch   11/57 - Train Accuracy: 0.7731, Validation Accuracy: 0.7722, Loss: 0.3248\n",
      "Epoch   3 Batch   12/57 - Train Accuracy: 0.7716, Validation Accuracy: 0.7729, Loss: 0.3129\n",
      "Epoch   3 Batch   13/57 - Train Accuracy: 0.7669, Validation Accuracy: 0.7711, Loss: 0.3107\n",
      "Epoch   3 Batch   14/57 - Train Accuracy: 0.7706, Validation Accuracy: 0.7709, Loss: 0.3130\n",
      "Epoch   3 Batch   15/57 - Train Accuracy: 0.7683, Validation Accuracy: 0.7741, Loss: 0.3167\n"
     ]
    },
    {
     "name": "stdout",
     "output_type": "stream",
     "text": [
      "Epoch   3 Batch   16/57 - Train Accuracy: 0.7739, Validation Accuracy: 0.7727, Loss: 0.3120\n",
      "Epoch   3 Batch   17/57 - Train Accuracy: 0.7689, Validation Accuracy: 0.7762, Loss: 0.3146\n",
      "Epoch   3 Batch   18/57 - Train Accuracy: 0.7725, Validation Accuracy: 0.7774, Loss: 0.3063\n",
      "Epoch   3 Batch   19/57 - Train Accuracy: 0.7840, Validation Accuracy: 0.7811, Loss: 0.2963\n",
      "Epoch   3 Batch   20/57 - Train Accuracy: 0.7774, Validation Accuracy: 0.7805, Loss: 0.3036\n",
      "Epoch   3 Batch   21/57 - Train Accuracy: 0.7767, Validation Accuracy: 0.7825, Loss: 0.2983\n",
      "Epoch   3 Batch   22/57 - Train Accuracy: 0.7752, Validation Accuracy: 0.7805, Loss: 0.2989\n",
      "Epoch   3 Batch   23/57 - Train Accuracy: 0.7808, Validation Accuracy: 0.7793, Loss: 0.2808\n",
      "Epoch   3 Batch   24/57 - Train Accuracy: 0.7899, Validation Accuracy: 0.7838, Loss: 0.2924\n",
      "Epoch   3 Batch   25/57 - Train Accuracy: 0.7843, Validation Accuracy: 0.7908, Loss: 0.2897\n",
      "Epoch   3 Batch   26/57 - Train Accuracy: 0.7844, Validation Accuracy: 0.7915, Loss: 0.2868\n",
      "Epoch   3 Batch   27/57 - Train Accuracy: 0.7866, Validation Accuracy: 0.7907, Loss: 0.2810\n",
      "Epoch   3 Batch   28/57 - Train Accuracy: 0.7807, Validation Accuracy: 0.7974, Loss: 0.2830\n",
      "Epoch   3 Batch   29/57 - Train Accuracy: 0.7917, Validation Accuracy: 0.7942, Loss: 0.2810\n",
      "Epoch   3 Batch   30/57 - Train Accuracy: 0.7981, Validation Accuracy: 0.7937, Loss: 0.2655\n",
      "Epoch   3 Batch   31/57 - Train Accuracy: 0.7954, Validation Accuracy: 0.7941, Loss: 0.2674\n",
      "Epoch   3 Batch   32/57 - Train Accuracy: 0.7940, Validation Accuracy: 0.8007, Loss: 0.2604\n",
      "Epoch   3 Batch   33/57 - Train Accuracy: 0.7961, Validation Accuracy: 0.8051, Loss: 0.2695\n",
      "Epoch   3 Batch   34/57 - Train Accuracy: 0.8098, Validation Accuracy: 0.8044, Loss: 0.2560\n",
      "Epoch   3 Batch   35/57 - Train Accuracy: 0.7953, Validation Accuracy: 0.8037, Loss: 0.2678\n",
      "Epoch   3 Batch   36/57 - Train Accuracy: 0.8013, Validation Accuracy: 0.8056, Loss: 0.2683\n",
      "Epoch   3 Batch   37/57 - Train Accuracy: 0.8007, Validation Accuracy: 0.8052, Loss: 0.2489\n",
      "Epoch   3 Batch   38/57 - Train Accuracy: 0.8297, Validation Accuracy: 0.8110, Loss: 0.2262\n",
      "Epoch   3 Batch   39/57 - Train Accuracy: 0.8088, Validation Accuracy: 0.8134, Loss: 0.2502\n",
      "Epoch   3 Batch   40/57 - Train Accuracy: 0.7945, Validation Accuracy: 0.8067, Loss: 0.2547\n",
      "Epoch   3 Batch   41/57 - Train Accuracy: 0.7983, Validation Accuracy: 0.8136, Loss: 0.2527\n",
      "Epoch   3 Batch   42/57 - Train Accuracy: 0.8021, Validation Accuracy: 0.8104, Loss: 0.2495\n",
      "Epoch   3 Batch   43/57 - Train Accuracy: 0.8173, Validation Accuracy: 0.8114, Loss: 0.2329\n",
      "Epoch   3 Batch   44/57 - Train Accuracy: 0.8096, Validation Accuracy: 0.8128, Loss: 0.2444\n",
      "Epoch   3 Batch   45/57 - Train Accuracy: 0.8251, Validation Accuracy: 0.8201, Loss: 0.2291\n",
      "Epoch   3 Batch   46/57 - Train Accuracy: 0.8288, Validation Accuracy: 0.8225, Loss: 0.2291\n",
      "Epoch   3 Batch   47/57 - Train Accuracy: 0.8370, Validation Accuracy: 0.8204, Loss: 0.2126\n",
      "Epoch   3 Batch   48/57 - Train Accuracy: 0.8125, Validation Accuracy: 0.8235, Loss: 0.2360\n",
      "Epoch   3 Batch   49/57 - Train Accuracy: 0.8228, Validation Accuracy: 0.8264, Loss: 0.2266\n",
      "Epoch   3 Batch   50/57 - Train Accuracy: 0.8402, Validation Accuracy: 0.8292, Loss: 0.2092\n",
      "Epoch   3 Batch   51/57 - Train Accuracy: 0.8190, Validation Accuracy: 0.8318, Loss: 0.2259\n",
      "Epoch   3 Batch   52/57 - Train Accuracy: 0.8416, Validation Accuracy: 0.8320, Loss: 0.2074\n",
      "Epoch   3 Batch   53/57 - Train Accuracy: 0.8196, Validation Accuracy: 0.8284, Loss: 0.2165\n",
      "Epoch   3 Batch   54/57 - Train Accuracy: 0.8266, Validation Accuracy: 0.8377, Loss: 0.2228\n",
      "Epoch   3 Batch   55/57 - Train Accuracy: 0.8328, Validation Accuracy: 0.8323, Loss: 0.2155\n",
      "Epoch   4 Batch    1/57 - Train Accuracy: 0.8292, Validation Accuracy: 0.8346, Loss: 0.2165\n",
      "Epoch   4 Batch    2/57 - Train Accuracy: 0.8317, Validation Accuracy: 0.8377, Loss: 0.1989\n",
      "Epoch   4 Batch    3/57 - Train Accuracy: 0.8338, Validation Accuracy: 0.8353, Loss: 0.1994\n",
      "Epoch   4 Batch    4/57 - Train Accuracy: 0.8363, Validation Accuracy: 0.8419, Loss: 0.1967\n",
      "Epoch   4 Batch    5/57 - Train Accuracy: 0.8408, Validation Accuracy: 0.8441, Loss: 0.2014\n",
      "Epoch   4 Batch    6/57 - Train Accuracy: 0.8401, Validation Accuracy: 0.8432, Loss: 0.1994\n",
      "Epoch   4 Batch    7/57 - Train Accuracy: 0.8416, Validation Accuracy: 0.8487, Loss: 0.2002\n",
      "Epoch   4 Batch    8/57 - Train Accuracy: 0.8378, Validation Accuracy: 0.8401, Loss: 0.1921\n",
      "Epoch   4 Batch    9/57 - Train Accuracy: 0.8512, Validation Accuracy: 0.8497, Loss: 0.1867\n",
      "Epoch   4 Batch   10/57 - Train Accuracy: 0.8471, Validation Accuracy: 0.8520, Loss: 0.1889\n",
      "Epoch   4 Batch   11/57 - Train Accuracy: 0.8511, Validation Accuracy: 0.8555, Loss: 0.1886\n",
      "Epoch   4 Batch   12/57 - Train Accuracy: 0.8539, Validation Accuracy: 0.8580, Loss: 0.1802\n",
      "Epoch   4 Batch   13/57 - Train Accuracy: 0.8472, Validation Accuracy: 0.8559, Loss: 0.1812\n",
      "Epoch   4 Batch   14/57 - Train Accuracy: 0.8535, Validation Accuracy: 0.8510, Loss: 0.1816\n",
      "Epoch   4 Batch   15/57 - Train Accuracy: 0.8452, Validation Accuracy: 0.8530, Loss: 0.1809\n",
      "Epoch   4 Batch   16/57 - Train Accuracy: 0.8532, Validation Accuracy: 0.8621, Loss: 0.1799\n",
      "Epoch   4 Batch   17/57 - Train Accuracy: 0.8525, Validation Accuracy: 0.8641, Loss: 0.1790\n",
      "Epoch   4 Batch   18/57 - Train Accuracy: 0.8627, Validation Accuracy: 0.8622, Loss: 0.1700\n",
      "Epoch   4 Batch   19/57 - Train Accuracy: 0.8624, Validation Accuracy: 0.8645, Loss: 0.1673\n",
      "Epoch   4 Batch   20/57 - Train Accuracy: 0.8600, Validation Accuracy: 0.8664, Loss: 0.1692\n",
      "Epoch   4 Batch   21/57 - Train Accuracy: 0.8595, Validation Accuracy: 0.8670, Loss: 0.1673\n",
      "Epoch   4 Batch   22/57 - Train Accuracy: 0.8592, Validation Accuracy: 0.8683, Loss: 0.1654\n",
      "Epoch   4 Batch   23/57 - Train Accuracy: 0.8673, Validation Accuracy: 0.8750, Loss: 0.1564\n",
      "Epoch   4 Batch   24/57 - Train Accuracy: 0.8724, Validation Accuracy: 0.8714, Loss: 0.1602\n",
      "Epoch   4 Batch   25/57 - Train Accuracy: 0.8692, Validation Accuracy: 0.8644, Loss: 0.1575\n",
      "Epoch   4 Batch   26/57 - Train Accuracy: 0.8541, Validation Accuracy: 0.8688, Loss: 0.1552\n",
      "Epoch   4 Batch   27/57 - Train Accuracy: 0.8615, Validation Accuracy: 0.8727, Loss: 0.1545\n",
      "Epoch   4 Batch   28/57 - Train Accuracy: 0.8627, Validation Accuracy: 0.8793, Loss: 0.1515\n",
      "Epoch   4 Batch   29/57 - Train Accuracy: 0.8713, Validation Accuracy: 0.8797, Loss: 0.1512\n",
      "Epoch   4 Batch   30/57 - Train Accuracy: 0.8755, Validation Accuracy: 0.8786, Loss: 0.1422\n",
      "Epoch   4 Batch   31/57 - Train Accuracy: 0.8763, Validation Accuracy: 0.8782, Loss: 0.1448\n",
      "Epoch   4 Batch   32/57 - Train Accuracy: 0.8837, Validation Accuracy: 0.8856, Loss: 0.1381\n",
      "Epoch   4 Batch   33/57 - Train Accuracy: 0.8804, Validation Accuracy: 0.8864, Loss: 0.1439\n",
      "Epoch   4 Batch   34/57 - Train Accuracy: 0.8925, Validation Accuracy: 0.8859, Loss: 0.1337\n",
      "Epoch   4 Batch   35/57 - Train Accuracy: 0.8839, Validation Accuracy: 0.8881, Loss: 0.1406\n",
      "Epoch   4 Batch   36/57 - Train Accuracy: 0.8788, Validation Accuracy: 0.8824, Loss: 0.1402\n",
      "Epoch   4 Batch   37/57 - Train Accuracy: 0.8847, Validation Accuracy: 0.8848, Loss: 0.1317\n",
      "Epoch   4 Batch   38/57 - Train Accuracy: 0.8980, Validation Accuracy: 0.8907, Loss: 0.1187\n",
      "Epoch   4 Batch   39/57 - Train Accuracy: 0.8906, Validation Accuracy: 0.8900, Loss: 0.1307\n",
      "Epoch   4 Batch   40/57 - Train Accuracy: 0.8808, Validation Accuracy: 0.8923, Loss: 0.1329\n",
      "Epoch   4 Batch   41/57 - Train Accuracy: 0.8825, Validation Accuracy: 0.8942, Loss: 0.1327\n",
      "Epoch   4 Batch   42/57 - Train Accuracy: 0.8884, Validation Accuracy: 0.8947, Loss: 0.1284\n",
      "Epoch   4 Batch   43/57 - Train Accuracy: 0.8946, Validation Accuracy: 0.8981, Loss: 0.1212\n",
      "Epoch   4 Batch   44/57 - Train Accuracy: 0.8876, Validation Accuracy: 0.8973, Loss: 0.1261\n",
      "Epoch   4 Batch   45/57 - Train Accuracy: 0.8922, Validation Accuracy: 0.8986, Loss: 0.1197\n",
      "Epoch   4 Batch   46/57 - Train Accuracy: 0.9017, Validation Accuracy: 0.9001, Loss: 0.1167\n",
      "Epoch   4 Batch   47/57 - Train Accuracy: 0.8994, Validation Accuracy: 0.9023, Loss: 0.1112\n",
      "Epoch   4 Batch   48/57 - Train Accuracy: 0.8949, Validation Accuracy: 0.9030, Loss: 0.1181\n",
      "Epoch   4 Batch   49/57 - Train Accuracy: 0.9046, Validation Accuracy: 0.9037, Loss: 0.1159\n",
      "Epoch   4 Batch   50/57 - Train Accuracy: 0.9035, Validation Accuracy: 0.9052, Loss: 0.1086\n"
     ]
    },
    {
     "name": "stdout",
     "output_type": "stream",
     "text": [
      "Epoch   4 Batch   51/57 - Train Accuracy: 0.8958, Validation Accuracy: 0.9030, Loss: 0.1158\n",
      "Epoch   4 Batch   52/57 - Train Accuracy: 0.9123, Validation Accuracy: 0.9036, Loss: 0.1052\n",
      "Epoch   4 Batch   53/57 - Train Accuracy: 0.8929, Validation Accuracy: 0.9062, Loss: 0.1102\n",
      "Epoch   4 Batch   54/57 - Train Accuracy: 0.8962, Validation Accuracy: 0.9064, Loss: 0.1157\n",
      "Epoch   4 Batch   55/57 - Train Accuracy: 0.8982, Validation Accuracy: 0.9039, Loss: 0.1106\n",
      "Model Trained and Saved\n"
     ]
    }
   ],
   "source": [
    "\"\"\"\n",
    "DON'T MODIFY ANYTHING IN THIS CELL\n",
    "\"\"\"\n",
    "def get_accuracy(target, logits):\n",
    "    \"\"\"\n",
    "    Calculate accuracy\n",
    "    \"\"\"\n",
    "    max_seq = max(target.shape[1], logits.shape[1])\n",
    "    if max_seq - target.shape[1]:\n",
    "        target = np.pad(\n",
    "            target,\n",
    "            [(0,0),(0,max_seq - target.shape[1])],\n",
    "            'constant')\n",
    "    if max_seq - logits.shape[1]:\n",
    "        logits = np.pad(\n",
    "            logits,\n",
    "            [(0,0),(0,max_seq - logits.shape[1])],\n",
    "            'constant')\n",
    "\n",
    "    return np.mean(np.equal(target, logits))\n",
    "\n",
    "# Split data to training and validation sets\n",
    "train_source = source_int_text[batch_size:]\n",
    "train_target = target_int_text[batch_size:]\n",
    "valid_source = source_int_text[:batch_size]\n",
    "valid_target = target_int_text[:batch_size]\n",
    "(valid_sources_batch, valid_targets_batch, valid_sources_lengths, valid_targets_lengths ) = next(get_batches(valid_source,\n",
    "                                                                                                             valid_target,\n",
    "                                                                                                             batch_size,\n",
    "                                                                                                             source_vocab_to_int['<PAD>'],\n",
    "                                                                                                             target_vocab_to_int['<PAD>']))                                                                                                  \n",
    "with tf.Session(graph=train_graph) as sess:\n",
    "    sess.run(tf.global_variables_initializer())\n",
    "\n",
    "    for epoch_i in range(epochs):\n",
    "        for batch_i, (source_batch, target_batch, sources_lengths, targets_lengths) in enumerate(\n",
    "                get_batches(train_source, train_target, batch_size,\n",
    "                            source_vocab_to_int['<PAD>'],\n",
    "                            target_vocab_to_int['<PAD>'])):\n",
    "\n",
    "            _, loss = sess.run(\n",
    "                [train_op, cost],\n",
    "                {input_data: source_batch,\n",
    "                 targets: target_batch,\n",
    "                 lr: learning_rate,\n",
    "                 target_sequence_length: targets_lengths,\n",
    "                 source_sequence_length: sources_lengths,\n",
    "                 keep_prob: keep_probability})\n",
    "\n",
    "\n",
    "            if batch_i % display_step == 0 and batch_i > 0:\n",
    "\n",
    "\n",
    "                batch_train_logits = sess.run(\n",
    "                    inference_logits,\n",
    "                    {input_data: source_batch,\n",
    "                     source_sequence_length: sources_lengths,\n",
    "                     target_sequence_length: targets_lengths,\n",
    "                     keep_prob: 1.0})\n",
    "\n",
    "\n",
    "                batch_valid_logits = sess.run(\n",
    "                    inference_logits,\n",
    "                    {input_data: valid_sources_batch,\n",
    "                     source_sequence_length: valid_sources_lengths,\n",
    "                     target_sequence_length: valid_targets_lengths,\n",
    "                     keep_prob: 1.0})\n",
    "\n",
    "                train_acc = get_accuracy(target_batch, batch_train_logits)\n",
    "\n",
    "                valid_acc = get_accuracy(valid_targets_batch, batch_valid_logits)\n",
    "\n",
    "                print('Epoch {:>3} Batch {:>4}/{} - Train Accuracy: {:>6.4f}, Validation Accuracy: {:>6.4f}, Loss: {:>6.4f}'\n",
    "                      .format(epoch_i, batch_i, len(source_int_text) // batch_size, train_acc, valid_acc, loss))\n",
    "\n",
    "    # Save Model\n",
    "    saver = tf.train.Saver()\n",
    "    saver.save(sess, save_path)\n",
    "    print('Model Trained and Saved')"
   ]
  },
  {
   "cell_type": "markdown",
   "metadata": {},
   "source": [
    "### Save Parameters\n",
    "Save the `batch_size` and `save_path` parameters for inference."
   ]
  },
  {
   "cell_type": "code",
   "execution_count": 30,
   "metadata": {
    "collapsed": true
   },
   "outputs": [],
   "source": [
    "\"\"\"\n",
    "DON'T MODIFY ANYTHING IN THIS CELL\n",
    "\"\"\"\n",
    "# Save parameters for checkpoint\n",
    "helper.save_params(save_path)"
   ]
  },
  {
   "cell_type": "markdown",
   "metadata": {},
   "source": [
    "# Checkpoint"
   ]
  },
  {
   "cell_type": "code",
   "execution_count": 31,
   "metadata": {
    "collapsed": true
   },
   "outputs": [],
   "source": [
    "\"\"\"\n",
    "DON'T MODIFY ANYTHING IN THIS CELL\n",
    "\"\"\"\n",
    "import tensorflow as tf\n",
    "import numpy as np\n",
    "import helper\n",
    "import problem_unittests as tests\n",
    "\n",
    "_, (source_vocab_to_int, target_vocab_to_int), (source_int_to_vocab, target_int_to_vocab) = helper.load_preprocess()\n",
    "load_path = helper.load_params()"
   ]
  },
  {
   "cell_type": "markdown",
   "metadata": {},
   "source": [
    "## Sentence to Sequence\n",
    "To feed a sentence into the model for translation, you first need to preprocess it.  Implement the function `sentence_to_seq()` to preprocess new sentences.\n",
    "\n",
    "- Convert the sentence to lowercase\n",
    "- Convert words into ids using `vocab_to_int`\n",
    " - Convert words not in the vocabulary, to the `<UNK>` word id."
   ]
  },
  {
   "cell_type": "code",
   "execution_count": 38,
   "metadata": {},
   "outputs": [
    {
     "name": "stdout",
     "output_type": "stream",
     "text": [
      "Tests Passed\n"
     ]
    }
   ],
   "source": [
    "def sentence_to_seq(sentence, vocab_to_int):\n",
    "    \"\"\"\n",
    "    Convert a sentence to a sequence of ids\n",
    "    :param sentence: String\n",
    "    :param vocab_to_int: Dictionary to go from the words to an id\n",
    "    :return: List of word ids\n",
    "    \"\"\"\n",
    "    lower_sentece = sentence.lower()\n",
    "    word_ids = [vocab_to_int.get(word, vocab_to_int['<UNK>']) for word in lower_sentece.split(' ')]\n",
    "    return word_ids\n",
    "\n",
    "\n",
    "\"\"\"\n",
    "DON'T MODIFY ANYTHING IN THIS CELL THAT IS BELOW THIS LINE\n",
    "\"\"\"\n",
    "tests.test_sentence_to_seq(sentence_to_seq)"
   ]
  },
  {
   "cell_type": "markdown",
   "metadata": {},
   "source": [
    "## Translate\n",
    "This will translate `translate_sentence` from English to French."
   ]
  },
  {
   "cell_type": "code",
   "execution_count": 40,
   "metadata": {},
   "outputs": [
    {
     "name": "stdout",
     "output_type": "stream",
     "text": [
      "INFO:tensorflow:Restoring parameters from checkpoints/dev\n",
      "Input\n",
      "  Word Ids:      [138, 100, 147, 58, 83, 156, 111]\n",
      "  English Words: ['he', 'saw', 'a', 'old', 'yellow', 'truck', '.']\n",
      "\n",
      "Prediction\n",
      "  Word Ids:      [165, 186, 26, 108, 138, 216, 1]\n",
      "  French Words: il aimait un camion rouge . <EOS>\n"
     ]
    }
   ],
   "source": [
    "translate_sentence = 'he saw a old yellow truck .'\n",
    "\n",
    "\n",
    "\"\"\"\n",
    "DON'T MODIFY ANYTHING IN THIS CELL\n",
    "\"\"\"\n",
    "translate_sentence = sentence_to_seq(translate_sentence, source_vocab_to_int)\n",
    "\n",
    "loaded_graph = tf.Graph()\n",
    "with tf.Session(graph=loaded_graph) as sess:\n",
    "    # Load saved model\n",
    "    loader = tf.train.import_meta_graph(load_path + '.meta')\n",
    "    loader.restore(sess, load_path)\n",
    "\n",
    "    input_data = loaded_graph.get_tensor_by_name('input:0')\n",
    "    logits = loaded_graph.get_tensor_by_name('predictions:0')\n",
    "    target_sequence_length = loaded_graph.get_tensor_by_name('target_sequence_length:0')\n",
    "    source_sequence_length = loaded_graph.get_tensor_by_name('source_sequence_length:0')\n",
    "    keep_prob = loaded_graph.get_tensor_by_name('keep_prob:0')\n",
    "\n",
    "    translate_logits = sess.run(logits, {input_data: [translate_sentence]*batch_size,\n",
    "                                         target_sequence_length: [len(translate_sentence)*2]*batch_size,\n",
    "                                         source_sequence_length: [len(translate_sentence)]*batch_size,\n",
    "                                         keep_prob: 1.0})[0]\n",
    "\n",
    "print('Input')\n",
    "print('  Word Ids:      {}'.format([i for i in translate_sentence]))\n",
    "print('  English Words: {}'.format([source_int_to_vocab[i] for i in translate_sentence]))\n",
    "\n",
    "print('\\nPrediction')\n",
    "print('  Word Ids:      {}'.format([i for i in translate_logits]))\n",
    "print('  French Words: {}'.format(\" \".join([target_int_to_vocab[i] for i in translate_logits])))\n"
   ]
  },
  {
   "cell_type": "markdown",
   "metadata": {},
   "source": [
    "## Imperfect Translation\n",
    "You might notice that some sentences translate better than others.  Since the dataset you're using only has a vocabulary of 227 English words of the thousands that you use, you're only going to see good results using these words.  For this project, you don't need a perfect translation. However, if you want to create a better translation model, you'll need better data.\n",
    "\n",
    "You can train on the [WMT10 French-English corpus](http://www.statmt.org/wmt10/training-giga-fren.tar).  This dataset has more vocabulary and richer in topics discussed.  However, this will take you days to train, so make sure you've a GPU and the neural network is performing well on dataset we provided.  Just make sure you play with the WMT10 corpus after you've submitted this project.\n",
    "## Submitting This Project\n",
    "When submitting this project, make sure to run all the cells before saving the notebook. Save the notebook file as \"dlnd_language_translation.ipynb\" and save it as a HTML file under \"File\" -> \"Download as\". Include the \"helper.py\" and \"problem_unittests.py\" files in your submission."
   ]
  }
 ],
 "metadata": {
  "anaconda-cloud": {},
  "kernelspec": {
   "display_name": "Python [default]",
   "language": "python",
   "name": "python3"
  },
  "language_info": {
   "codemirror_mode": {
    "name": "ipython",
    "version": 3
   },
   "file_extension": ".py",
   "mimetype": "text/x-python",
   "name": "python",
   "nbconvert_exporter": "python",
   "pygments_lexer": "ipython3",
   "version": "3.6.1"
  }
 },
 "nbformat": 4,
 "nbformat_minor": 1
}
